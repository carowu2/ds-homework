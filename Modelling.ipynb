{
 "cells": [
  {
   "cell_type": "markdown",
   "metadata": {},
   "source": [
    "# Predicting a Patient's Succesful Completion of Drug Treatment Program"
   ]
  },
  {
   "cell_type": "markdown",
   "metadata": {},
   "source": [
    "We are using 2011 nationwide data of patients discharged from drug treatment programs (either through completion of the program or by dropping out). The goal is to analyse some of the attributes of the patient or their circumstances to see if they may have some impact on the outcome of whether the patient completes treatment or drops out against professional advice."
   ]
  },
  {
   "cell_type": "code",
   "execution_count": 1,
   "metadata": {
    "collapsed": true
   },
   "outputs": [],
   "source": [
    "import pandas as pd\n",
    "import numpy as np\n",
    "import seaborn as sns\n",
    "%matplotlib inline\n",
    "import matplotlib.pyplot as plt"
   ]
  },
  {
   "cell_type": "markdown",
   "metadata": {},
   "source": [
    "# Read in and clean some of the data "
   ]
  },
  {
   "cell_type": "code",
   "execution_count": 2,
   "metadata": {
    "collapsed": false
   },
   "outputs": [],
   "source": [
    "df_raw = pd.read_table('Discharge_Data.tsv')"
   ]
  },
  {
   "cell_type": "markdown",
   "metadata": {},
   "source": [
    "We need to subset our data to the observations where the REASON for discharge from the program was either:\n",
    "\n",
    "1: Treatment Completed, or \n",
    "\n",
    "2: Left Against Professional Advice"
   ]
  },
  {
   "cell_type": "code",
   "execution_count": 3,
   "metadata": {
    "collapsed": false
   },
   "outputs": [],
   "source": [
    "df = df_raw.loc[df_raw['REASON'].isin([1,2])]"
   ]
  },
  {
   "cell_type": "markdown",
   "metadata": {},
   "source": [
    "Since -9 represents NA/mising values in the dataset, map to NaN for easier reading and computation with pandas/numpy.\n",
    "Also, convert outcome variable REASON to binary 0,1 for easier computation:"
   ]
  },
  {
   "cell_type": "code",
   "execution_count": 4,
   "metadata": {
    "collapsed": false
   },
   "outputs": [],
   "source": [
    "df = df.replace(-9, np.nan)\n",
    "df['REASON'] = df['REASON'].replace(2, 0)"
   ]
  },
  {
   "cell_type": "markdown",
   "metadata": {},
   "source": [
    "In previewing the data below, there are 65 variables including the outcome. We need to pick only a handful to analyse in our model to ensure it is manageable and to prevent overfitting."
   ]
  },
  {
   "cell_type": "code",
   "execution_count": 5,
   "metadata": {
    "collapsed": false,
    "scrolled": false
   },
   "outputs": [
    {
     "data": {
      "text/html": [
       "<div>\n",
       "<table border=\"1\" class=\"dataframe\">\n",
       "  <thead>\n",
       "    <tr style=\"text-align: right;\">\n",
       "      <th></th>\n",
       "      <th>CASEID</th>\n",
       "      <th>DISYR</th>\n",
       "      <th>AGE</th>\n",
       "      <th>GENDER</th>\n",
       "      <th>RACE</th>\n",
       "      <th>ETHNIC</th>\n",
       "      <th>MARSTAT</th>\n",
       "      <th>EDUC</th>\n",
       "      <th>EMPLOY</th>\n",
       "      <th>DETNLF</th>\n",
       "      <th>...</th>\n",
       "      <th>BARBFLG</th>\n",
       "      <th>SEDHPFLG</th>\n",
       "      <th>INHFLG</th>\n",
       "      <th>OTCFLG</th>\n",
       "      <th>OTHERFLG</th>\n",
       "      <th>ALCDRUG</th>\n",
       "      <th>DSMCRIT</th>\n",
       "      <th>PSYPROB</th>\n",
       "      <th>HLTHINS</th>\n",
       "      <th>PRIMPAY</th>\n",
       "    </tr>\n",
       "  </thead>\n",
       "  <tbody>\n",
       "    <tr>\n",
       "      <th>2</th>\n",
       "      <td>3</td>\n",
       "      <td>2011</td>\n",
       "      <td>11</td>\n",
       "      <td>1.0</td>\n",
       "      <td>5.0</td>\n",
       "      <td>5.0</td>\n",
       "      <td>3.0</td>\n",
       "      <td>4.0</td>\n",
       "      <td>4.0</td>\n",
       "      <td>3.0</td>\n",
       "      <td>...</td>\n",
       "      <td>0</td>\n",
       "      <td>0</td>\n",
       "      <td>0</td>\n",
       "      <td>0</td>\n",
       "      <td>0</td>\n",
       "      <td>3</td>\n",
       "      <td>13.0</td>\n",
       "      <td>2.0</td>\n",
       "      <td>NaN</td>\n",
       "      <td>9.0</td>\n",
       "    </tr>\n",
       "    <tr>\n",
       "      <th>3</th>\n",
       "      <td>4</td>\n",
       "      <td>2011</td>\n",
       "      <td>6</td>\n",
       "      <td>2.0</td>\n",
       "      <td>5.0</td>\n",
       "      <td>5.0</td>\n",
       "      <td>3.0</td>\n",
       "      <td>4.0</td>\n",
       "      <td>3.0</td>\n",
       "      <td>NaN</td>\n",
       "      <td>...</td>\n",
       "      <td>0</td>\n",
       "      <td>0</td>\n",
       "      <td>0</td>\n",
       "      <td>0</td>\n",
       "      <td>0</td>\n",
       "      <td>2</td>\n",
       "      <td>NaN</td>\n",
       "      <td>1.0</td>\n",
       "      <td>4.0</td>\n",
       "      <td>5.0</td>\n",
       "    </tr>\n",
       "    <tr>\n",
       "      <th>4</th>\n",
       "      <td>5</td>\n",
       "      <td>2011</td>\n",
       "      <td>9</td>\n",
       "      <td>2.0</td>\n",
       "      <td>5.0</td>\n",
       "      <td>5.0</td>\n",
       "      <td>4.0</td>\n",
       "      <td>3.0</td>\n",
       "      <td>1.0</td>\n",
       "      <td>NaN</td>\n",
       "      <td>...</td>\n",
       "      <td>0</td>\n",
       "      <td>0</td>\n",
       "      <td>0</td>\n",
       "      <td>0</td>\n",
       "      <td>0</td>\n",
       "      <td>1</td>\n",
       "      <td>9.0</td>\n",
       "      <td>1.0</td>\n",
       "      <td>4.0</td>\n",
       "      <td>5.0</td>\n",
       "    </tr>\n",
       "    <tr>\n",
       "      <th>5</th>\n",
       "      <td>6</td>\n",
       "      <td>2011</td>\n",
       "      <td>5</td>\n",
       "      <td>1.0</td>\n",
       "      <td>4.0</td>\n",
       "      <td>5.0</td>\n",
       "      <td>1.0</td>\n",
       "      <td>4.0</td>\n",
       "      <td>4.0</td>\n",
       "      <td>6.0</td>\n",
       "      <td>...</td>\n",
       "      <td>0</td>\n",
       "      <td>0</td>\n",
       "      <td>0</td>\n",
       "      <td>0</td>\n",
       "      <td>0</td>\n",
       "      <td>2</td>\n",
       "      <td>NaN</td>\n",
       "      <td>2.0</td>\n",
       "      <td>4.0</td>\n",
       "      <td>8.0</td>\n",
       "    </tr>\n",
       "    <tr>\n",
       "      <th>6</th>\n",
       "      <td>7</td>\n",
       "      <td>2011</td>\n",
       "      <td>6</td>\n",
       "      <td>1.0</td>\n",
       "      <td>5.0</td>\n",
       "      <td>5.0</td>\n",
       "      <td>1.0</td>\n",
       "      <td>3.0</td>\n",
       "      <td>2.0</td>\n",
       "      <td>NaN</td>\n",
       "      <td>...</td>\n",
       "      <td>0</td>\n",
       "      <td>0</td>\n",
       "      <td>0</td>\n",
       "      <td>0</td>\n",
       "      <td>0</td>\n",
       "      <td>2</td>\n",
       "      <td>7.0</td>\n",
       "      <td>2.0</td>\n",
       "      <td>NaN</td>\n",
       "      <td>1.0</td>\n",
       "    </tr>\n",
       "  </tbody>\n",
       "</table>\n",
       "<p>5 rows × 65 columns</p>\n",
       "</div>"
      ],
      "text/plain": [
       "   CASEID  DISYR  AGE  GENDER  RACE  ETHNIC  MARSTAT  EDUC  EMPLOY  DETNLF  \\\n",
       "2       3   2011   11     1.0   5.0     5.0      3.0   4.0     4.0     3.0   \n",
       "3       4   2011    6     2.0   5.0     5.0      3.0   4.0     3.0     NaN   \n",
       "4       5   2011    9     2.0   5.0     5.0      4.0   3.0     1.0     NaN   \n",
       "5       6   2011    5     1.0   4.0     5.0      1.0   4.0     4.0     6.0   \n",
       "6       7   2011    6     1.0   5.0     5.0      1.0   3.0     2.0     NaN   \n",
       "\n",
       "    ...     BARBFLG  SEDHPFLG  INHFLG  OTCFLG  OTHERFLG  ALCDRUG  DSMCRIT  \\\n",
       "2   ...           0         0       0       0         0        3     13.0   \n",
       "3   ...           0         0       0       0         0        2      NaN   \n",
       "4   ...           0         0       0       0         0        1      9.0   \n",
       "5   ...           0         0       0       0         0        2      NaN   \n",
       "6   ...           0         0       0       0         0        2      7.0   \n",
       "\n",
       "   PSYPROB  HLTHINS  PRIMPAY  \n",
       "2      2.0      NaN      9.0  \n",
       "3      1.0      4.0      5.0  \n",
       "4      1.0      4.0      5.0  \n",
       "5      2.0      4.0      8.0  \n",
       "6      2.0      NaN      1.0  \n",
       "\n",
       "[5 rows x 65 columns]"
      ]
     },
     "execution_count": 5,
     "metadata": {},
     "output_type": "execute_result"
    }
   ],
   "source": [
    "df.head()"
   ]
  },
  {
   "cell_type": "markdown",
   "metadata": {},
   "source": [
    "As displayed above, most of the data is categorical but represented by a numerical value. The variables I plan to include in the model are dictated below:\n",
    "\n",
    "Variable | Description | Type of Variable\n",
    "---| ---| ---\n",
    "AGE | (Values 2-11) Mapped to Age Ranges from 11 and under to 55+ | categorical\n",
    "GENDER | 1 = Male, 2 = Female | categorical\n",
    "EDUC | (Values 1-5) Mapped to Years of Education Ranges, from 8 and less to 16+ | categorical\n",
    "EMPLOY | (Values 1-4) Mapped to Employment Status: FT, PT, Unemployed, Not in Labour Force | categorical\n",
    "LIVARAG | (Values 1-3) Living Arrangement: Homeless, Independent, Dependent | categorical\n",
    "LOS | Length of Stay # of days til 30 (after 30, ranges: 31 = 31-45 days, 32 = 46=60 days, etc.) | continuous/categorical \n",
    "PSOURCE | (Values 1-7) Primary Source of Referral | categorical\n",
    "NOPRIOR | # of Prior Treatment Episodes | continuous\n",
    "NUMSUBS | Number of Substances | continous\n",
    "SUB1 | (Values 1-20) Mapped to Primary Substance of Abuse | categorical\n",
    "REASON | 1 = Treatment Completed , 0 = Dropped Out | categorical"
   ]
  },
  {
   "cell_type": "code",
   "execution_count": 5,
   "metadata": {
    "collapsed": true
   },
   "outputs": [],
   "source": [
    "# subset data according to above variables\n",
    "df = df[['AGE', 'GENDER', 'EDUC', 'EMPLOY', 'LIVARAG', 'LOS', 'PSOURCE', 'NOPRIOR', 'NUMSUBS', 'SUB1', 'REASON']].dropna()\n",
    "\n",
    "# created version with mapped variables for easier comprehension, use unmapped version for charting ordinal variables\n",
    "df_mapped = df.copy()"
   ]
  },
  {
   "cell_type": "markdown",
   "metadata": {},
   "source": [
    "We can take a quick look at distributions of chosen variables - note despite all being categorical some are ordinal such as AGE, EDUC, LOS (Length of Stay), NOPRIOR (Number of Prior Treatments), NUMSUBS (Number of Substances):"
   ]
  },
  {
   "cell_type": "code",
   "execution_count": 7,
   "metadata": {
    "collapsed": false,
    "scrolled": true
   },
   "outputs": [
    {
     "data": {
      "image/png": "[encoded data removed]",
      "text/plain": [
       "<matplotlib.figure.Figure at 0xb4fb898>"
      ]
     },
     "metadata": {},
     "output_type": "display_data"
    }
   ],
   "source": [
    "df.hist();"
   ]
  },
  {
   "cell_type": "markdown",
   "metadata": {},
   "source": [
    "Focusing on the distribution of the AGE ranges between those who completed treatment and those who dropped out:"
   ]
  },
  {
   "cell_type": "code",
   "execution_count": 8,
   "metadata": {
    "collapsed": false
   },
   "outputs": [
    {
     "data": {
      "image/png": "[encoded data removed]",
      "text/plain": [
       "<matplotlib.figure.Figure at 0x154396d8>"
      ]
     },
     "metadata": {},
     "output_type": "display_data"
    }
   ],
   "source": [
    "plt.hist(df[df['REASON'] == 1]['AGE'], alpha = 0.5, label = 'Completed')\n",
    "plt.hist(df[df['REASON'] == 0]['AGE'], alpha = 0.5, label = 'Dropped Out')\n",
    "plt.legend(loc = 'upper left');\n",
    "x = [2, 3, 4, 5, 6, 7, 8, 9, 10, 11, 12]\n",
    "labels =  ['12-14', '15-17', '18-20', '21-24', '25-29', '30-34', '35-39', '40-44', '45-49', '50-54', '55+']\n",
    "plt.xticks(x, labels, rotation='vertical');\n",
    "plt.xlabel('AGE');"
   ]
  },
  {
   "cell_type": "markdown",
   "metadata": {},
   "source": [
    "It looks like there is a downward trend in those dropping out of the program as the age range increases, so it could age could be an indicative variable in our model. We can further analyse this in conjunction with gender to see if this is true across both sexes:"
   ]
  },
  {
   "cell_type": "code",
   "execution_count": 9,
   "metadata": {
    "collapsed": false
   },
   "outputs": [
    {
     "data": {
      "image/png": "[encoded data removed]",
      "text/plain": [
       "<matplotlib.figure.Figure at 0x1540dd68>"
      ]
     },
     "metadata": {},
     "output_type": "display_data"
    }
   ],
   "source": [
    "# Reason = 1: Completed Treatment, Reason = 2: Dropped Out\n",
    "# Gender = 1: Male, Gender = 2: Female\n",
    "g = sns.FacetGrid(df, row = 'GENDER', col = 'REASON', margin_titles = True)\n",
    "g.map(plt.hist, 'AGE');"
   ]
  },
  {
   "cell_type": "markdown",
   "metadata": {
    "collapsed": true
   },
   "source": [
    "The majority of those who finish treatment are men older than 55+. Once again it looks like the distributions seem similar at first glance."
   ]
  },
  {
   "cell_type": "markdown",
   "metadata": {},
   "source": [
    "# Mapping Variables to Categorical Values for Models"
   ]
  },
  {
   "cell_type": "markdown",
   "metadata": {},
   "source": [
    "Age Ranges:"
   ]
  },
  {
   "cell_type": "code",
   "execution_count": 6,
   "metadata": {
    "collapsed": false
   },
   "outputs": [],
   "source": [
    "AGE_Map = {1: '11 and Under',\n",
    "           2: '12 to 14',\n",
    "           3: '15 to 17',\n",
    "           4: '18 to 20',\n",
    "           5: '21 to 23',\n",
    "           6: '25 to 29',\n",
    "           7: '30 to 34',\n",
    "           8: '35 to 39',\n",
    "           9: '40 to 44',\n",
    "           10: '45 to 49',\n",
    "           11: '50 to 54',\n",
    "           12: '55+'}\n",
    "\n",
    "df_mapped['AGE'].replace(AGE_Map, inplace = True)"
   ]
  },
  {
   "cell_type": "markdown",
   "metadata": {},
   "source": [
    "Gender:"
   ]
  },
  {
   "cell_type": "code",
   "execution_count": 7,
   "metadata": {
    "collapsed": true
   },
   "outputs": [],
   "source": [
    "GENDER_Map = {1: 'Male',\n",
    "              2: 'Female'}\n",
    "df_mapped['GENDER'].replace(GENDER_Map, inplace = True)"
   ]
  },
  {
   "cell_type": "markdown",
   "metadata": {},
   "source": [
    "Education:"
   ]
  },
  {
   "cell_type": "code",
   "execution_count": 8,
   "metadata": {
    "collapsed": false
   },
   "outputs": [],
   "source": [
    "EDUC_Map = {1: '00 to 08',\n",
    "            2: '09 to 11',\n",
    "            3: '12 ',\n",
    "            4: '13 to 15',\n",
    "            5: '16+'}\n",
    "df_mapped['EDUC'].replace(EDUC_Map, inplace = True)"
   ]
  },
  {
   "cell_type": "markdown",
   "metadata": {},
   "source": [
    "Employment Status:"
   ]
  },
  {
   "cell_type": "code",
   "execution_count": 9,
   "metadata": {
    "collapsed": true
   },
   "outputs": [],
   "source": [
    "EMPLOY_Map = {1: 'Full Time',\n",
    "              2: 'Part Time',\n",
    "              3: 'Unemployed',\n",
    "              4: 'Not in Labour Force'}\n",
    "df_mapped['EMPLOY'].replace(EMPLOY_Map, inplace = True)"
   ]
  },
  {
   "cell_type": "markdown",
   "metadata": {},
   "source": [
    "Living Arrangement:"
   ]
  },
  {
   "cell_type": "code",
   "execution_count": 10,
   "metadata": {
    "collapsed": true
   },
   "outputs": [],
   "source": [
    "LIVARAG_Map = {1: 'Homeless',\n",
    "               2: 'Dependent',\n",
    "               3: 'Independent'}\n",
    "df_mapped['LIVARAG'].replace(LIVARAG_Map, inplace = True)"
   ]
  },
  {
   "cell_type": "markdown",
   "metadata": {},
   "source": [
    "Length of Stay:"
   ]
  },
  {
   "cell_type": "code",
   "execution_count": 11,
   "metadata": {
    "collapsed": false,
    "scrolled": true
   },
   "outputs": [],
   "source": [
    "# mapping length of stay - although the data is continuous for stays 1-30 days, the rest of the lengths are measured in range\n",
    "LOS_map = {31: '31-45',\n",
    "           32: '46-60',\n",
    "           33: '61-90',\n",
    "           34: '90-120',\n",
    "           35: '121-180',\n",
    "           36: '181-365',\n",
    "           37: '365+'\n",
    "           }\n",
    "df_mapped['LOS'].replace(LOS_map, inplace = True)\n",
    "df_mapped['LOS'] = np.where(df_mapped.LOS.isin(range(1,16)), '1-15', df_mapped['LOS'])\n",
    "df_mapped['LOS'] = np.where(df_mapped.LOS.isin(range(16,31)), '16-30', df_mapped['LOS'])"
   ]
  },
  {
   "cell_type": "markdown",
   "metadata": {},
   "source": [
    "Principal Source of Referral:"
   ]
  },
  {
   "cell_type": "code",
   "execution_count": 12,
   "metadata": {
    "collapsed": true
   },
   "outputs": [],
   "source": [
    "PSOURCE_Map = {1: 'Individual',\n",
    "               2: 'Drug Abuse Provider',\n",
    "               3: 'Other Health Provider',\n",
    "               4: 'School',\n",
    "               5: 'Employer',\n",
    "               6: 'Other Community Referral',\n",
    "               7: 'Court'}\n",
    "df_mapped['PSOURCE'].replace(PSOURCE_Map, inplace = True)"
   ]
  },
  {
   "cell_type": "markdown",
   "metadata": {},
   "source": [
    "Primary Drug Used:"
   ]
  },
  {
   "cell_type": "code",
   "execution_count": 14,
   "metadata": {
    "collapsed": false
   },
   "outputs": [
    {
     "data": {
      "text/plain": [
       "2.0     415986\n",
       "4.0     194717\n",
       "5.0     143348\n",
       "7.0      81976\n",
       "3.0      81417\n",
       "10.0     70587\n",
       "13.0      8517\n",
       "20.0      6876\n",
       "1.0       5412\n",
       "11.0      4852\n",
       "8.0       3114\n",
       "6.0       2996\n",
       "16.0      1369\n",
       "9.0        959\n",
       "18.0       693\n",
       "17.0       683\n",
       "12.0       662\n",
       "15.0       502\n",
       "14.0       230\n",
       "Name: SUB1, dtype: int64"
      ]
     },
     "execution_count": 14,
     "metadata": {},
     "output_type": "execute_result"
    }
   ],
   "source": [
    "# mapping primary drug used - since there are 20 unique categories, take the 6 most common and code the rest as 'Other'\n",
    "df_mapped['SUB1'].value_counts(ascending = False)"
   ]
  },
  {
   "cell_type": "code",
   "execution_count": 13,
   "metadata": {
    "collapsed": false
   },
   "outputs": [],
   "source": [
    "# mapping substances\n",
    "SUB1_Map = {2: 'Alcohol',\n",
    "            3: 'Crack Cocaine',\n",
    "            4: 'Marijuana',\n",
    "            5: 'Heroine',\n",
    "            7: 'Opiates Synthetics',\n",
    "            10: 'Meth'}\n",
    "df_mapped['SUB1'].replace(SUB1_Map, inplace = True)\n",
    "df_mapped['SUB1'] = np.where(df_mapped.SUB1.isin([1,6,8,9,11,12,13,14,15,16,17,18,18,20]), 'Other', df_mapped['SUB1'])"
   ]
  },
  {
   "cell_type": "markdown",
   "metadata": {},
   "source": [
    "# Look at Distributions of the Mapped [Categorical] Data"
   ]
  },
  {
   "cell_type": "code",
   "execution_count": 27,
   "metadata": {
    "collapsed": false
   },
   "outputs": [
    {
     "name": "stdout",
     "output_type": "stream",
     "text": [
      "REASON           0         1\n",
      "AGE                         \n",
      "12 to 14  0.423148  0.576852\n",
      "15to 17   0.414261  0.585739\n",
      "18 to 20  0.443965  0.556035\n",
      "21 to 23  0.414726  0.585274\n",
      "25 to 29  0.407208  0.592792\n",
      "30 to 34  0.403946  0.596054\n",
      "35 to 39  0.392508  0.607492\n",
      "40 to 44  0.381801  0.618199\n",
      "45 to 49  0.362967  0.637033\n",
      "50 to 54  0.341443  0.658557\n",
      "55+       0.318304  0.681696 \n",
      "\n",
      "REASON         0         1\n",
      "GENDER                    \n",
      "Female  0.423676  0.576324\n",
      "Male    0.375298  0.624702 \n",
      "\n",
      "REASON                  0         1\n",
      "EDUC                               \n",
      "12               0.378444  0.621556\n",
      "13 to 15         0.354772  0.645228\n",
      "16 or More       0.291284  0.708716\n",
      "8 Years or Less  0.423015  0.576985\n",
      "9 to 11          0.447220  0.552780 \n",
      "\n",
      "REASON                      0         1\n",
      "EMPLOY                                 \n",
      "Full Time            0.304637  0.695363\n",
      "Not in Labour Force  0.399741  0.600259\n",
      "Part Time            0.377235  0.622765\n",
      "Unemployed           0.419624  0.580376 \n",
      "\n",
      "REASON              0         1\n",
      "LIVARAG                        \n",
      "Dependent    0.381630  0.618370\n",
      "Homeless     0.359836  0.640164\n",
      "Independent  0.400597  0.599403 \n",
      "\n",
      "REASON          0         1\n",
      "LOS                        \n",
      "1-15     0.445452  0.554548\n",
      "121-180  0.310843  0.689157\n",
      "16-30    0.371857  0.628143\n",
      "181-365  0.303720  0.696280\n",
      "31-45    0.473358  0.526642\n",
      "365+     0.382628  0.617372\n",
      "46-60    0.470666  0.529334\n",
      "61-90    0.403439  0.596561\n",
      "90-120   0.321910  0.678090 \n",
      "\n",
      "REASON                           0         1\n",
      "PSOURCE                                     \n",
      "Court                     0.318335  0.681665\n",
      "Drug Abuse Provider       0.381913  0.618087\n",
      "Employer                  0.284038  0.715962\n",
      "Individual                0.455840  0.544160\n",
      "Other Community Referral  0.423446  0.576554\n",
      "Other Health Provider     0.416221  0.583779\n",
      "School                    0.492183  0.507817 \n",
      "\n",
      "REASON                     0         1\n",
      "SUB1                                  \n",
      "Alcohol             0.305981  0.694019\n",
      "Crack Cocaine       0.451159  0.548841\n",
      "Heroine             0.482762  0.517238\n",
      "Marijuana           0.445030  0.554970\n",
      "Meth                0.394761  0.605239\n",
      "Opiates Synthetics  0.458439  0.541561\n",
      "Other               0.424468  0.575532 \n",
      "\n"
     ]
    }
   ],
   "source": [
    "features = ['AGE', 'GENDER', 'EDUC', 'EMPLOY', 'LIVARAG', 'LOS', 'PSOURCE', 'SUB1']\n",
    "\n",
    "for feature in features:\n",
    "    print pd.crosstab(index = df_mapped[feature], columns = df_mapped['REASON'], normalize = 'index'), '\\n'"
   ]
  },
  {
   "cell_type": "code",
   "execution_count": 14,
   "metadata": {
    "collapsed": false,
    "scrolled": true
   },
   "outputs": [
    {
     "data": {
      "text/html": [
       "<div>\n",
       "<table border=\"1\" class=\"dataframe\">\n",
       "  <thead>\n",
       "    <tr style=\"text-align: right;\">\n",
       "      <th></th>\n",
       "      <th>AGE</th>\n",
       "      <th>GENDER</th>\n",
       "      <th>EDUC</th>\n",
       "      <th>EMPLOY</th>\n",
       "      <th>LIVARAG</th>\n",
       "      <th>LOS</th>\n",
       "      <th>PSOURCE</th>\n",
       "      <th>NOPRIOR</th>\n",
       "      <th>NUMSUBS</th>\n",
       "      <th>SUB1</th>\n",
       "      <th>REASON</th>\n",
       "    </tr>\n",
       "  </thead>\n",
       "  <tbody>\n",
       "    <tr>\n",
       "      <th>3</th>\n",
       "      <td>25 to 29</td>\n",
       "      <td>Female</td>\n",
       "      <td>13 to 15</td>\n",
       "      <td>Unemployed</td>\n",
       "      <td>Independent</td>\n",
       "      <td>46-60</td>\n",
       "      <td>Individual</td>\n",
       "      <td>1.0</td>\n",
       "      <td>2</td>\n",
       "      <td>Opiates Synthetics</td>\n",
       "      <td>0</td>\n",
       "    </tr>\n",
       "    <tr>\n",
       "      <th>4</th>\n",
       "      <td>40 to 44</td>\n",
       "      <td>Female</td>\n",
       "      <td>12</td>\n",
       "      <td>Full Time</td>\n",
       "      <td>Independent</td>\n",
       "      <td>16-30</td>\n",
       "      <td>Other Community Referral</td>\n",
       "      <td>3.0</td>\n",
       "      <td>1</td>\n",
       "      <td>Alcohol</td>\n",
       "      <td>1</td>\n",
       "    </tr>\n",
       "    <tr>\n",
       "      <th>6</th>\n",
       "      <td>25 to 29</td>\n",
       "      <td>Male</td>\n",
       "      <td>12</td>\n",
       "      <td>Part Time</td>\n",
       "      <td>Independent</td>\n",
       "      <td>121-180</td>\n",
       "      <td>Court</td>\n",
       "      <td>2.0</td>\n",
       "      <td>1</td>\n",
       "      <td>Marijuana</td>\n",
       "      <td>1</td>\n",
       "    </tr>\n",
       "    <tr>\n",
       "      <th>7</th>\n",
       "      <td>25 to 29</td>\n",
       "      <td>Male</td>\n",
       "      <td>13 to 15</td>\n",
       "      <td>Not in Labour Force</td>\n",
       "      <td>Homeless</td>\n",
       "      <td>1-15</td>\n",
       "      <td>Individual</td>\n",
       "      <td>5.0</td>\n",
       "      <td>2</td>\n",
       "      <td>Heroine</td>\n",
       "      <td>0</td>\n",
       "    </tr>\n",
       "    <tr>\n",
       "      <th>8</th>\n",
       "      <td>35 to 39</td>\n",
       "      <td>Male</td>\n",
       "      <td>16 or More</td>\n",
       "      <td>Full Time</td>\n",
       "      <td>Independent</td>\n",
       "      <td>181-365</td>\n",
       "      <td>Individual</td>\n",
       "      <td>3.0</td>\n",
       "      <td>2</td>\n",
       "      <td>Meth</td>\n",
       "      <td>1</td>\n",
       "    </tr>\n",
       "  </tbody>\n",
       "</table>\n",
       "</div>"
      ],
      "text/plain": [
       "        AGE  GENDER        EDUC               EMPLOY      LIVARAG      LOS  \\\n",
       "3  25 to 29  Female    13 to 15           Unemployed  Independent    46-60   \n",
       "4  40 to 44  Female          12            Full Time  Independent    16-30   \n",
       "6  25 to 29    Male          12            Part Time  Independent  121-180   \n",
       "7  25 to 29    Male    13 to 15  Not in Labour Force     Homeless     1-15   \n",
       "8  35 to 39    Male  16 or More            Full Time  Independent  181-365   \n",
       "\n",
       "                    PSOURCE  NOPRIOR  NUMSUBS                SUB1  REASON  \n",
       "3                Individual      1.0        2  Opiates Synthetics       0  \n",
       "4  Other Community Referral      3.0        1             Alcohol       1  \n",
       "6                     Court      2.0        1           Marijuana       1  \n",
       "7                Individual      5.0        2             Heroine       0  \n",
       "8                Individual      3.0        2                Meth       1  "
      ]
     },
     "execution_count": 14,
     "metadata": {},
     "output_type": "execute_result"
    }
   ],
   "source": [
    "df_mapped.head()"
   ]
  },
  {
   "cell_type": "code",
   "execution_count": 14,
   "metadata": {
    "collapsed": false
   },
   "outputs": [],
   "source": [
    "dummies = pd.get_dummies(df_mapped[['AGE', 'GENDER', 'EDUC', 'EMPLOY', 'LIVARAG', 'LOS', 'PSOURCE', 'SUB1']], drop_first = True)"
   ]
  },
  {
   "cell_type": "code",
   "execution_count": 15,
   "metadata": {
    "collapsed": false
   },
   "outputs": [],
   "source": [
    "df_mapped1 = df_mapped.join(dummies)"
   ]
  },
  {
   "cell_type": "code",
   "execution_count": 16,
   "metadata": {
    "collapsed": false,
    "scrolled": true
   },
   "outputs": [
    {
     "name": "stderr",
     "output_type": "stream",
     "text": [
      "C:\\Users\\Caroline\\Anaconda2\\lib\\site-packages\\sklearn\\cross_validation.py:44: DeprecationWarning: This module was deprecated in version 0.18 in favor of the model_selection module into which all the refactored classes and functions are moved. Also note that the interface of the new CV iterators are different from that of this module. This module will be removed in 0.20.\n",
      "  \"This module will be removed in 0.20.\", DeprecationWarning)\n"
     ]
    },
    {
     "data": {
      "text/plain": [
       "LogisticRegression(C=1.0, class_weight=None, dual=False, fit_intercept=True,\n",
       "          intercept_scaling=1, max_iter=100, multi_class='ovr', n_jobs=1,\n",
       "          penalty='l2', random_state=None, solver='liblinear', tol=0.0001,\n",
       "          verbose=0, warm_start=False)"
      ]
     },
     "execution_count": 16,
     "metadata": {},
     "output_type": "execute_result"
    }
   ],
   "source": [
    "y = df_mapped1['REASON']\n",
    "X = df_mapped1.drop(['AGE', 'GENDER', 'EDUC', 'EMPLOY', 'LOS', 'LIVARAG', 'PSOURCE', 'SUB1', 'REASON'], axis = 1, inplace = False)\n",
    "\n",
    "from sklearn import linear_model\n",
    "logr = linear_model.LogisticRegression()\n",
    "logr.fit(X,y)"
   ]
  },
  {
   "cell_type": "code",
   "execution_count": 17,
   "metadata": {
    "collapsed": false
   },
   "outputs": [
    {
     "name": "stdout",
     "output_type": "stream",
     "text": [
      "0.629696082689 0.000908804980133\n"
     ]
    }
   ],
   "source": [
    "from sklearn.cross_validation import cross_val_score, KFold, StratifiedKFold\n",
    "from sklearn.metrics import accuracy_score, f1_score, precision_score, recall_score, classification_report\n",
    "cv = StratifiedKFold(y, n_folds = 5, shuffle = True, random_state = 3)\n",
    "perf = cross_val_score(logr, X, y, cv=cv, scoring = \"accuracy\")\n",
    "print perf.mean(), perf.std()"
   ]
  },
  {
   "cell_type": "code",
   "execution_count": 23,
   "metadata": {
    "collapsed": false
   },
   "outputs": [
    {
     "data": {
      "text/plain": [
       "0.60877201198950914"
      ]
     },
     "execution_count": 23,
     "metadata": {},
     "output_type": "execute_result"
    }
   ],
   "source": [
    "len(df_mapped[df_mapped.REASON == 1])/np.float32(len(df_mapped))"
   ]
  },
  {
   "cell_type": "markdown",
   "metadata": {},
   "source": [
    "Our model is performing with 63% accuracy; given a baseline performance of 60.8% this is not a strong model. We can use gridsearch to see if changing parameters will improve our accuracy:"
   ]
  },
  {
   "cell_type": "code",
   "execution_count": 28,
   "metadata": {
    "collapsed": false
   },
   "outputs": [
    {
     "name": "stderr",
     "output_type": "stream",
     "text": [
      "C:\\Users\\Caroline\\Anaconda2\\lib\\site-packages\\sklearn\\grid_search.py:43: DeprecationWarning: This module was deprecated in version 0.18 in favor of the model_selection module into which all the refactored classes and functions are moved. This module will be removed in 0.20.\n",
      "  DeprecationWarning)\n"
     ]
    },
    {
     "name": "stdout",
     "output_type": "stream",
     "text": [
      "Fitting 5 folds for each of 10 candidates, totalling 50 fits\n"
     ]
    },
    {
     "ename": "JoblibIndexError",
     "evalue": "JoblibIndexError\n___________________________________________________________________________\nMultiprocessing exception:\n...........................................................................\nC:\\Users\\Caroline\\Anaconda2\\lib\\runpy.py in _run_module_as_main(mod_name='ipykernel.__main__', alter_argv=1)\n    169     pkg_name = mod_name.rpartition('.')[0]\n    170     main_globals = sys.modules[\"__main__\"].__dict__\n    171     if alter_argv:\n    172         sys.argv[0] = fname\n    173     return _run_code(code, main_globals, None,\n--> 174                      \"__main__\", fname, loader, pkg_name)\n        fname = r'C:\\Users\\Caroline\\Anaconda2\\lib\\site-packages\\ipykernel\\__main__.py'\n        loader = <pkgutil.ImpLoader instance>\n        pkg_name = 'ipykernel'\n    175 \n    176 def run_module(mod_name, init_globals=None,\n    177                run_name=None, alter_sys=False):\n    178     \"\"\"Execute a module's code without importing it\n\n...........................................................................\nC:\\Users\\Caroline\\Anaconda2\\lib\\runpy.py in _run_code(code=<code object <module> at 0000000002865B30, file ...lib\\site-packages\\ipykernel\\__main__.py\", line 1>, run_globals={'__builtins__': <module '__builtin__' (built-in)>, '__doc__': None, '__file__': r'C:\\Users\\Caroline\\Anaconda2\\lib\\site-packages\\ipykernel\\__main__.py', '__loader__': <pkgutil.ImpLoader instance>, '__name__': '__main__', '__package__': 'ipykernel', 'app': <module 'ipykernel.kernelapp' from 'C:\\Users\\Car...onda2\\lib\\site-packages\\ipykernel\\kernelapp.pyc'>}, init_globals=None, mod_name='__main__', mod_fname=r'C:\\Users\\Caroline\\Anaconda2\\lib\\site-packages\\ipykernel\\__main__.py', mod_loader=<pkgutil.ImpLoader instance>, pkg_name='ipykernel')\n     67         run_globals.update(init_globals)\n     68     run_globals.update(__name__ = mod_name,\n     69                        __file__ = mod_fname,\n     70                        __loader__ = mod_loader,\n     71                        __package__ = pkg_name)\n---> 72     exec code in run_globals\n        code = <code object <module> at 0000000002865B30, file ...lib\\site-packages\\ipykernel\\__main__.py\", line 1>\n        run_globals = {'__builtins__': <module '__builtin__' (built-in)>, '__doc__': None, '__file__': r'C:\\Users\\Caroline\\Anaconda2\\lib\\site-packages\\ipykernel\\__main__.py', '__loader__': <pkgutil.ImpLoader instance>, '__name__': '__main__', '__package__': 'ipykernel', 'app': <module 'ipykernel.kernelapp' from 'C:\\Users\\Car...onda2\\lib\\site-packages\\ipykernel\\kernelapp.pyc'>}\n     73     return run_globals\n     74 \n     75 def _run_module_code(code, init_globals=None,\n     76                     mod_name=None, mod_fname=None,\n\n...........................................................................\nC:\\Users\\Caroline\\Anaconda2\\lib\\site-packages\\ipykernel\\__main__.py in <module>()\n      1 \n      2 \n----> 3 \n      4 if __name__ == '__main__':\n      5     from ipykernel import kernelapp as app\n      6     app.launch_new_instance()\n      7 \n      8 \n      9 \n     10 \n\n...........................................................................\nC:\\Users\\Caroline\\Anaconda2\\lib\\site-packages\\traitlets\\config\\application.py in launch_instance(cls=<class 'ipykernel.kernelapp.IPKernelApp'>, argv=None, **kwargs={})\n    591         \n    592         If a global instance already exists, this reinitializes and starts it\n    593         \"\"\"\n    594         app = cls.instance(**kwargs)\n    595         app.initialize(argv)\n--> 596         app.start()\n        app.start = <bound method IPKernelApp.start of <ipykernel.kernelapp.IPKernelApp object>>\n    597 \n    598 #-----------------------------------------------------------------------------\n    599 # utility functions, for convenience\n    600 #-----------------------------------------------------------------------------\n\n...........................................................................\nC:\\Users\\Caroline\\Anaconda2\\lib\\site-packages\\ipykernel\\kernelapp.py in start(self=<ipykernel.kernelapp.IPKernelApp object>)\n    437         \n    438         if self.poller is not None:\n    439             self.poller.start()\n    440         self.kernel.start()\n    441         try:\n--> 442             ioloop.IOLoop.instance().start()\n    443         except KeyboardInterrupt:\n    444             pass\n    445 \n    446 launch_new_instance = IPKernelApp.launch_instance\n\n...........................................................................\nC:\\Users\\Caroline\\Anaconda2\\lib\\site-packages\\zmq\\eventloop\\ioloop.py in start(self=<zmq.eventloop.ioloop.ZMQIOLoop object>)\n    157             PollIOLoop.configure(ZMQIOLoop)\n    158         return PollIOLoop.current(*args, **kwargs)\n    159     \n    160     def start(self):\n    161         try:\n--> 162             super(ZMQIOLoop, self).start()\n        self.start = <bound method ZMQIOLoop.start of <zmq.eventloop.ioloop.ZMQIOLoop object>>\n    163         except ZMQError as e:\n    164             if e.errno == ETERM:\n    165                 # quietly return on ETERM\n    166                 pass\n\n...........................................................................\nC:\\Users\\Caroline\\Anaconda2\\lib\\site-packages\\tornado\\ioloop.py in start(self=<zmq.eventloop.ioloop.ZMQIOLoop object>)\n    878                 self._events.update(event_pairs)\n    879                 while self._events:\n    880                     fd, events = self._events.popitem()\n    881                     try:\n    882                         fd_obj, handler_func = self._handlers[fd]\n--> 883                         handler_func(fd_obj, events)\n        handler_func = <function null_wrapper>\n        fd_obj = <zmq.sugar.socket.Socket object>\n        events = 1\n    884                     except (OSError, IOError) as e:\n    885                         if errno_from_exception(e) == errno.EPIPE:\n    886                             # Happens when the client closes the connection\n    887                             pass\n\n...........................................................................\nC:\\Users\\Caroline\\Anaconda2\\lib\\site-packages\\tornado\\stack_context.py in null_wrapper(*args=(<zmq.sugar.socket.Socket object>, 1), **kwargs={})\n    270         # Fast path when there are no active contexts.\n    271         def null_wrapper(*args, **kwargs):\n    272             try:\n    273                 current_state = _state.contexts\n    274                 _state.contexts = cap_contexts[0]\n--> 275                 return fn(*args, **kwargs)\n        args = (<zmq.sugar.socket.Socket object>, 1)\n        kwargs = {}\n    276             finally:\n    277                 _state.contexts = current_state\n    278         null_wrapper._wrapped = True\n    279         return null_wrapper\n\n...........................................................................\nC:\\Users\\Caroline\\Anaconda2\\lib\\site-packages\\zmq\\eventloop\\zmqstream.py in _handle_events(self=<zmq.eventloop.zmqstream.ZMQStream object>, fd=<zmq.sugar.socket.Socket object>, events=1)\n    435             # dispatch events:\n    436             if events & IOLoop.ERROR:\n    437                 gen_log.error(\"got POLLERR event on ZMQStream, which doesn't make sense\")\n    438                 return\n    439             if events & IOLoop.READ:\n--> 440                 self._handle_recv()\n        self._handle_recv = <bound method ZMQStream._handle_recv of <zmq.eventloop.zmqstream.ZMQStream object>>\n    441                 if not self.socket:\n    442                     return\n    443             if events & IOLoop.WRITE:\n    444                 self._handle_send()\n\n...........................................................................\nC:\\Users\\Caroline\\Anaconda2\\lib\\site-packages\\zmq\\eventloop\\zmqstream.py in _handle_recv(self=<zmq.eventloop.zmqstream.ZMQStream object>)\n    467                 gen_log.error(\"RECV Error: %s\"%zmq.strerror(e.errno))\n    468         else:\n    469             if self._recv_callback:\n    470                 callback = self._recv_callback\n    471                 # self._recv_callback = None\n--> 472                 self._run_callback(callback, msg)\n        self._run_callback = <bound method ZMQStream._run_callback of <zmq.eventloop.zmqstream.ZMQStream object>>\n        callback = <function null_wrapper>\n        msg = [<zmq.sugar.frame.Frame object>, <zmq.sugar.frame.Frame object>, <zmq.sugar.frame.Frame object>, <zmq.sugar.frame.Frame object>, <zmq.sugar.frame.Frame object>, <zmq.sugar.frame.Frame object>, <zmq.sugar.frame.Frame object>]\n    473                 \n    474         # self.update_state()\n    475         \n    476 \n\n...........................................................................\nC:\\Users\\Caroline\\Anaconda2\\lib\\site-packages\\zmq\\eventloop\\zmqstream.py in _run_callback(self=<zmq.eventloop.zmqstream.ZMQStream object>, callback=<function null_wrapper>, *args=([<zmq.sugar.frame.Frame object>, <zmq.sugar.frame.Frame object>, <zmq.sugar.frame.Frame object>, <zmq.sugar.frame.Frame object>, <zmq.sugar.frame.Frame object>, <zmq.sugar.frame.Frame object>, <zmq.sugar.frame.Frame object>],), **kwargs={})\n    409         close our socket.\"\"\"\n    410         try:\n    411             # Use a NullContext to ensure that all StackContexts are run\n    412             # inside our blanket exception handler rather than outside.\n    413             with stack_context.NullContext():\n--> 414                 callback(*args, **kwargs)\n        callback = <function null_wrapper>\n        args = ([<zmq.sugar.frame.Frame object>, <zmq.sugar.frame.Frame object>, <zmq.sugar.frame.Frame object>, <zmq.sugar.frame.Frame object>, <zmq.sugar.frame.Frame object>, <zmq.sugar.frame.Frame object>, <zmq.sugar.frame.Frame object>],)\n        kwargs = {}\n    415         except:\n    416             gen_log.error(\"Uncaught exception, closing connection.\",\n    417                           exc_info=True)\n    418             # Close the socket on an uncaught exception from a user callback\n\n...........................................................................\nC:\\Users\\Caroline\\Anaconda2\\lib\\site-packages\\tornado\\stack_context.py in null_wrapper(*args=([<zmq.sugar.frame.Frame object>, <zmq.sugar.frame.Frame object>, <zmq.sugar.frame.Frame object>, <zmq.sugar.frame.Frame object>, <zmq.sugar.frame.Frame object>, <zmq.sugar.frame.Frame object>, <zmq.sugar.frame.Frame object>],), **kwargs={})\n    270         # Fast path when there are no active contexts.\n    271         def null_wrapper(*args, **kwargs):\n    272             try:\n    273                 current_state = _state.contexts\n    274                 _state.contexts = cap_contexts[0]\n--> 275                 return fn(*args, **kwargs)\n        args = ([<zmq.sugar.frame.Frame object>, <zmq.sugar.frame.Frame object>, <zmq.sugar.frame.Frame object>, <zmq.sugar.frame.Frame object>, <zmq.sugar.frame.Frame object>, <zmq.sugar.frame.Frame object>, <zmq.sugar.frame.Frame object>],)\n        kwargs = {}\n    276             finally:\n    277                 _state.contexts = current_state\n    278         null_wrapper._wrapped = True\n    279         return null_wrapper\n\n...........................................................................\nC:\\Users\\Caroline\\Anaconda2\\lib\\site-packages\\ipykernel\\kernelbase.py in dispatcher(msg=[<zmq.sugar.frame.Frame object>, <zmq.sugar.frame.Frame object>, <zmq.sugar.frame.Frame object>, <zmq.sugar.frame.Frame object>, <zmq.sugar.frame.Frame object>, <zmq.sugar.frame.Frame object>, <zmq.sugar.frame.Frame object>])\n    271         if self.control_stream:\n    272             self.control_stream.on_recv(self.dispatch_control, copy=False)\n    273 \n    274         def make_dispatcher(stream):\n    275             def dispatcher(msg):\n--> 276                 return self.dispatch_shell(stream, msg)\n        msg = [<zmq.sugar.frame.Frame object>, <zmq.sugar.frame.Frame object>, <zmq.sugar.frame.Frame object>, <zmq.sugar.frame.Frame object>, <zmq.sugar.frame.Frame object>, <zmq.sugar.frame.Frame object>, <zmq.sugar.frame.Frame object>]\n    277             return dispatcher\n    278 \n    279         for s in self.shell_streams:\n    280             s.on_recv(make_dispatcher(s), copy=False)\n\n...........................................................................\nC:\\Users\\Caroline\\Anaconda2\\lib\\site-packages\\ipykernel\\kernelbase.py in dispatch_shell(self=<ipykernel.ipkernel.IPythonKernel object>, stream=<zmq.eventloop.zmqstream.ZMQStream object>, msg={'buffers': [], 'content': {u'allow_stdin': True, u'code': u'logr = linear_model.LogisticRegression()\\npara...= df_sub[\\'REASON\\']\\nlogr_grid.fit(X_sub,y_sub)', u'silent': False, u'stop_on_error': True, u'store_history': True, u'user_expressions': {}}, 'header': {'date': '2016-11-23T15:20:56.051000', u'msg_id': u'E78513DC8EF14390A391AA61F6B34196', u'msg_type': u'execute_request', u'session': u'26582A89FCFE44A9A5130D7F2E77ECD8', u'username': u'username', u'version': u'5.0'}, 'metadata': {}, 'msg_id': u'E78513DC8EF14390A391AA61F6B34196', 'msg_type': u'execute_request', 'parent_header': {}})\n    223             self.log.error(\"UNKNOWN MESSAGE TYPE: %r\", msg_type)\n    224         else:\n    225             self.log.debug(\"%s: %s\", msg_type, msg)\n    226             self.pre_handler_hook()\n    227             try:\n--> 228                 handler(stream, idents, msg)\n        handler = <bound method IPythonKernel.execute_request of <ipykernel.ipkernel.IPythonKernel object>>\n        stream = <zmq.eventloop.zmqstream.ZMQStream object>\n        idents = ['26582A89FCFE44A9A5130D7F2E77ECD8']\n        msg = {'buffers': [], 'content': {u'allow_stdin': True, u'code': u'logr = linear_model.LogisticRegression()\\npara...= df_sub[\\'REASON\\']\\nlogr_grid.fit(X_sub,y_sub)', u'silent': False, u'stop_on_error': True, u'store_history': True, u'user_expressions': {}}, 'header': {'date': '2016-11-23T15:20:56.051000', u'msg_id': u'E78513DC8EF14390A391AA61F6B34196', u'msg_type': u'execute_request', u'session': u'26582A89FCFE44A9A5130D7F2E77ECD8', u'username': u'username', u'version': u'5.0'}, 'metadata': {}, 'msg_id': u'E78513DC8EF14390A391AA61F6B34196', 'msg_type': u'execute_request', 'parent_header': {}}\n    229             except Exception:\n    230                 self.log.error(\"Exception in message handler:\", exc_info=True)\n    231             finally:\n    232                 self.post_handler_hook()\n\n...........................................................................\nC:\\Users\\Caroline\\Anaconda2\\lib\\site-packages\\ipykernel\\kernelbase.py in execute_request(self=<ipykernel.ipkernel.IPythonKernel object>, stream=<zmq.eventloop.zmqstream.ZMQStream object>, ident=['26582A89FCFE44A9A5130D7F2E77ECD8'], parent={'buffers': [], 'content': {u'allow_stdin': True, u'code': u'logr = linear_model.LogisticRegression()\\npara...= df_sub[\\'REASON\\']\\nlogr_grid.fit(X_sub,y_sub)', u'silent': False, u'stop_on_error': True, u'store_history': True, u'user_expressions': {}}, 'header': {'date': '2016-11-23T15:20:56.051000', u'msg_id': u'E78513DC8EF14390A391AA61F6B34196', u'msg_type': u'execute_request', u'session': u'26582A89FCFE44A9A5130D7F2E77ECD8', u'username': u'username', u'version': u'5.0'}, 'metadata': {}, 'msg_id': u'E78513DC8EF14390A391AA61F6B34196', 'msg_type': u'execute_request', 'parent_header': {}})\n    386         if not silent:\n    387             self.execution_count += 1\n    388             self._publish_execute_input(code, parent, self.execution_count)\n    389 \n    390         reply_content = self.do_execute(code, silent, store_history,\n--> 391                                         user_expressions, allow_stdin)\n        user_expressions = {}\n        allow_stdin = True\n    392 \n    393         # Flush output before sending the reply.\n    394         sys.stdout.flush()\n    395         sys.stderr.flush()\n\n...........................................................................\nC:\\Users\\Caroline\\Anaconda2\\lib\\site-packages\\ipykernel\\ipkernel.py in do_execute(self=<ipykernel.ipkernel.IPythonKernel object>, code=u'logr = linear_model.LogisticRegression()\\npara...= df_sub[\\'REASON\\']\\nlogr_grid.fit(X_sub,y_sub)', silent=False, store_history=True, user_expressions={}, allow_stdin=True)\n    194 \n    195         reply_content = {}\n    196         # FIXME: the shell calls the exception handler itself.\n    197         shell._reply_content = None\n    198         try:\n--> 199             shell.run_cell(code, store_history=store_history, silent=silent)\n        shell.run_cell = <bound method ZMQInteractiveShell.run_cell of <ipykernel.zmqshell.ZMQInteractiveShell object>>\n        code = u'logr = linear_model.LogisticRegression()\\npara...= df_sub[\\'REASON\\']\\nlogr_grid.fit(X_sub,y_sub)'\n        store_history = True\n        silent = False\n    200         except:\n    201             status = u'error'\n    202             # FIXME: this code right now isn't being used yet by default,\n    203             # because the run_cell() call above directly fires off exception\n\n...........................................................................\nC:\\Users\\Caroline\\Anaconda2\\lib\\site-packages\\IPython\\core\\interactiveshell.py in run_cell(self=<ipykernel.zmqshell.ZMQInteractiveShell object>, raw_cell=u'logr = linear_model.LogisticRegression()\\npara...= df_sub[\\'REASON\\']\\nlogr_grid.fit(X_sub,y_sub)', store_history=True, silent=False, shell_futures=True)\n   2718                 self.displayhook.exec_result = result\n   2719 \n   2720                 # Execute the user code\n   2721                 interactivity = \"none\" if silent else self.ast_node_interactivity\n   2722                 self.run_ast_nodes(code_ast.body, cell_name,\n-> 2723                    interactivity=interactivity, compiler=compiler, result=result)\n        interactivity = 'last_expr'\n        compiler = <IPython.core.compilerop.CachingCompiler instance>\n   2724 \n   2725                 # Reset this so later displayed values do not modify the\n   2726                 # ExecutionResult\n   2727                 self.displayhook.exec_result = None\n\n...........................................................................\nC:\\Users\\Caroline\\Anaconda2\\lib\\site-packages\\IPython\\core\\interactiveshell.py in run_ast_nodes(self=<ipykernel.zmqshell.ZMQInteractiveShell object>, nodelist=[<_ast.Assign object>, <_ast.Assign object>, <_ast.ImportFrom object>, <_ast.Assign object>, <_ast.Assign object>, <_ast.Assign object>, <_ast.Assign object>, <_ast.Expr object>], cell_name='<ipython-input-28-daa62441c292>', interactivity='last', compiler=<IPython.core.compilerop.CachingCompiler instance>, result=<IPython.core.interactiveshell.ExecutionResult object>)\n   2826                     return True\n   2827 \n   2828             for i, node in enumerate(to_run_interactive):\n   2829                 mod = ast.Interactive([node])\n   2830                 code = compiler(mod, cell_name, \"single\")\n-> 2831                 if self.run_code(code, result):\n        self.run_code = <bound method ZMQInteractiveShell.run_code of <ipykernel.zmqshell.ZMQInteractiveShell object>>\n        code = <code object <module> at 000000001350B930, file \"<ipython-input-28-daa62441c292>\", line 9>\n        result = <IPython.core.interactiveshell.ExecutionResult object>\n   2832                     return True\n   2833 \n   2834             # Flush softspace\n   2835             if softspace(sys.stdout, 0):\n\n...........................................................................\nC:\\Users\\Caroline\\Anaconda2\\lib\\site-packages\\IPython\\core\\interactiveshell.py in run_code(self=<ipykernel.zmqshell.ZMQInteractiveShell object>, code_obj=<code object <module> at 000000001350B930, file \"<ipython-input-28-daa62441c292>\", line 9>, result=<IPython.core.interactiveshell.ExecutionResult object>)\n   2880         outflag = 1  # happens in more places, so it's easier as default\n   2881         try:\n   2882             try:\n   2883                 self.hooks.pre_run_code_hook()\n   2884                 #rprint('Running code', repr(code_obj)) # dbg\n-> 2885                 exec(code_obj, self.user_global_ns, self.user_ns)\n        code_obj = <code object <module> at 000000001350B930, file \"<ipython-input-28-daa62441c292>\", line 9>\n        self.user_global_ns = {'AGE_Map': {1: '11 and Under', 2: '12 to 14', 3: '15to 17', 4: '18 to 20', 5: '21 to 23', 6: '25 to 29', 7: '30 to 34', 8: '35 to 39', 9: '40 to 44', 10: '45 to 49', ...}, 'EDUC_Map': {1: '8 Years or Less', 2: '9 to 11', 3: '12', 4: '13 to 15', 5: '16 or More'}, 'EMPLOY_Map': {1: 'Full Time', 2: 'Part Time', 3: 'Unemployed', 4: 'Not in Labour Force'}, 'GENDER_Map': {1: 'Male', 2: 'Female'}, 'GridSearchCV': <class 'sklearn.grid_search.GridSearchCV'>, 'In': ['', u\"import pandas as pd\\nimport numpy as np\\nimpor...lotlib inline')\\nimport matplotlib.pyplot as plt\", u\"df_raw = pd.read_table('Discharge_Data.tsv')\", u\"df = df_raw.loc[df_raw['REASON'].isin([1,2])]\", u\"df = df.replace(-9, np.nan)\\ndf['REASON'] = df['REASON'].replace(2, 0)\", u\"# subset data according to above variables\\ndf...harting ordinal variables\\ndf_mapped = df.copy()\", u\"AGE_Map = {1: '11 and Under',\\n           2: '...f_mapped['AGE'].replace(AGE_Map, inplace = True)\", u\"GENDER_Map = {1: 'Male',\\n              2: 'Fe...ed['GENDER'].replace(GENDER_Map, inplace = True)\", u\"# mapping education\\nEDUC_Map = {1: '8 Years o...mapped['EDUC'].replace(EDUC_Map, inplace = True)\", u\"# mapping employment status\\nEMPLOY_Map = {1: ...ed['EMPLOY'].replace(EMPLOY_Map, inplace = True)\", u\"# mapping living arrangement status\\nLIVARAG_M...['LIVARAG'].replace(LIVARAG_Map, inplace = True)\", u\"# mapping length of stay - although the data i...S.isin(range(16,31)), '16-30', df_mapped['LOS'])\", u\"# mapping principal source of referral\\nPSOURC...['PSOURCE'].replace(PSOURCE_Map, inplace = True)\", u\"# mapping substances\\nSUB1_Map = {2: 'Alcohol'...15,16,17,18,18,20]), 'Other', df_mapped['SUB1'])\", u\"dummies = pd.get_dummies(df_mapped[['AGE', 'GE..., 'LOS', 'PSOURCE', 'SUB1']], drop_first = True)\", u'df_mapped1 = df_mapped.join(dummies)', u\"y = df_mapped1['REASON']\\nX = df_mapped1.drop(...linear_model.LogisticRegression()\\nlogr.fit(X,y)\", u'from sklearn.cross_validation import cross_val...ing = \"accuracy\")\\nprint perf.mean(), perf.std()', u\"features = df_mapped[['AGE', 'GENDER', 'EDUC',...['REASON'], normalize = 'index', margins = True)\", u\"features = ['AGE', 'GENDER', 'EDUC', 'EMPLOY',...['REASON'], normalize = 'index', margins = True)\", ...], 'KFold': <class 'sklearn.cross_validation.KFold'>, 'LIVARAG_Map': {1: 'Homeless', 2: 'Dependent', 3: 'Independent'}, 'LOS_map': {31: '31-45', 32: '46-60', 33: '61-90', 34: '90-120', 35: '121-180', 36: '181-365', 37: '365+'}, 'Out': {16: LogisticRegression(C=1.0, class_weight=None, dua...ol=0.0001,\n          verbose=0, warm_start=False)}, ...}\n        self.user_ns = {'AGE_Map': {1: '11 and Under', 2: '12 to 14', 3: '15to 17', 4: '18 to 20', 5: '21 to 23', 6: '25 to 29', 7: '30 to 34', 8: '35 to 39', 9: '40 to 44', 10: '45 to 49', ...}, 'EDUC_Map': {1: '8 Years or Less', 2: '9 to 11', 3: '12', 4: '13 to 15', 5: '16 or More'}, 'EMPLOY_Map': {1: 'Full Time', 2: 'Part Time', 3: 'Unemployed', 4: 'Not in Labour Force'}, 'GENDER_Map': {1: 'Male', 2: 'Female'}, 'GridSearchCV': <class 'sklearn.grid_search.GridSearchCV'>, 'In': ['', u\"import pandas as pd\\nimport numpy as np\\nimpor...lotlib inline')\\nimport matplotlib.pyplot as plt\", u\"df_raw = pd.read_table('Discharge_Data.tsv')\", u\"df = df_raw.loc[df_raw['REASON'].isin([1,2])]\", u\"df = df.replace(-9, np.nan)\\ndf['REASON'] = df['REASON'].replace(2, 0)\", u\"# subset data according to above variables\\ndf...harting ordinal variables\\ndf_mapped = df.copy()\", u\"AGE_Map = {1: '11 and Under',\\n           2: '...f_mapped['AGE'].replace(AGE_Map, inplace = True)\", u\"GENDER_Map = {1: 'Male',\\n              2: 'Fe...ed['GENDER'].replace(GENDER_Map, inplace = True)\", u\"# mapping education\\nEDUC_Map = {1: '8 Years o...mapped['EDUC'].replace(EDUC_Map, inplace = True)\", u\"# mapping employment status\\nEMPLOY_Map = {1: ...ed['EMPLOY'].replace(EMPLOY_Map, inplace = True)\", u\"# mapping living arrangement status\\nLIVARAG_M...['LIVARAG'].replace(LIVARAG_Map, inplace = True)\", u\"# mapping length of stay - although the data i...S.isin(range(16,31)), '16-30', df_mapped['LOS'])\", u\"# mapping principal source of referral\\nPSOURC...['PSOURCE'].replace(PSOURCE_Map, inplace = True)\", u\"# mapping substances\\nSUB1_Map = {2: 'Alcohol'...15,16,17,18,18,20]), 'Other', df_mapped['SUB1'])\", u\"dummies = pd.get_dummies(df_mapped[['AGE', 'GE..., 'LOS', 'PSOURCE', 'SUB1']], drop_first = True)\", u'df_mapped1 = df_mapped.join(dummies)', u\"y = df_mapped1['REASON']\\nX = df_mapped1.drop(...linear_model.LogisticRegression()\\nlogr.fit(X,y)\", u'from sklearn.cross_validation import cross_val...ing = \"accuracy\")\\nprint perf.mean(), perf.std()', u\"features = df_mapped[['AGE', 'GENDER', 'EDUC',...['REASON'], normalize = 'index', margins = True)\", u\"features = ['AGE', 'GENDER', 'EDUC', 'EMPLOY',...['REASON'], normalize = 'index', margins = True)\", ...], 'KFold': <class 'sklearn.cross_validation.KFold'>, 'LIVARAG_Map': {1: 'Homeless', 2: 'Dependent', 3: 'Independent'}, 'LOS_map': {31: '31-45', 32: '46-60', 33: '61-90', 34: '90-120', 35: '121-180', 36: '181-365', 37: '365+'}, 'Out': {16: LogisticRegression(C=1.0, class_weight=None, dua...ol=0.0001,\n          verbose=0, warm_start=False)}, ...}\n   2886             finally:\n   2887                 # Reset our crash handler in place\n   2888                 sys.excepthook = old_excepthook\n   2889         except SystemExit as e:\n\n...........................................................................\nC:\\Users\\Caroline\\GitStuff\\ds-homework\\<ipython-input-28-daa62441c292> in <module>()\n      4 from sklearn.grid_search import GridSearchCV\n      5 logr_grid = GridSearchCV(logr, params, n_jobs =-1, verbose = True, cv=cv)\n      6 df_sub = df_mapped1.sample(frac = 0.1)\n      7 X_sub = df_sub.drop(['AGE', 'GENDER', 'EDUC', 'EMPLOY', 'LOS', 'LIVARAG', 'PSOURCE', 'SUB1', 'REASON'], axis = 1, inplace = False)\n      8 y_sub = df_sub['REASON']\n----> 9 logr_grid.fit(X_sub,y_sub)\n     10 \n     11 \n     12 \n     13 \n\n...........................................................................\nC:\\Users\\Caroline\\Anaconda2\\lib\\site-packages\\sklearn\\grid_search.py in fit(self=GridSearchCV(cv=sklearn.cross_validation.Stratif...*n_jobs', refit=True, scoring=None, verbose=True), X=         NOPRIOR  NUMSUBS  AGE_15to 17  AGE_18 t...660111          0.0  \n\n[102490 rows x 42 columns], y=539557     1\n1465128    1\n1091784    1\n1520858  ...881     0\n660111     1\nName: REASON, dtype: int64)\n    824         y : array-like, shape = [n_samples] or [n_samples, n_output], optional\n    825             Target relative to X for classification or regression;\n    826             None for unsupervised learning.\n    827 \n    828         \"\"\"\n--> 829         return self._fit(X, y, ParameterGrid(self.param_grid))\n        self._fit = <bound method GridSearchCV._fit of GridSearchCV(...n_jobs', refit=True, scoring=None, verbose=True)>\n        X =          NOPRIOR  NUMSUBS  AGE_15to 17  AGE_18 t...660111          0.0  \n\n[102490 rows x 42 columns]\n        y = 539557     1\n1465128    1\n1091784    1\n1520858  ...881     0\n660111     1\nName: REASON, dtype: int64\n        self.param_grid = {'C': [1e-06, 0.001, 1, 100, 10000], 'penalty': ['l1', 'l2']}\n    830 \n    831 \n    832 class RandomizedSearchCV(BaseSearchCV):\n    833     \"\"\"Randomized search on hyper parameters.\n\n...........................................................................\nC:\\Users\\Caroline\\Anaconda2\\lib\\site-packages\\sklearn\\grid_search.py in _fit(self=GridSearchCV(cv=sklearn.cross_validation.Stratif...*n_jobs', refit=True, scoring=None, verbose=True), X=         NOPRIOR  NUMSUBS  AGE_15to 17  AGE_18 t...660111          0.0  \n\n[102490 rows x 42 columns], y=539557     1\n1465128    1\n1091784    1\n1520858  ...881     0\n660111     1\nName: REASON, dtype: int64, parameter_iterable=<sklearn.grid_search.ParameterGrid object>)\n    568         )(\n    569             delayed(_fit_and_score)(clone(base_estimator), X, y, self.scorer_,\n    570                                     train, test, self.verbose, parameters,\n    571                                     self.fit_params, return_parameters=True,\n    572                                     error_score=self.error_score)\n--> 573                 for parameters in parameter_iterable\n        parameters = undefined\n        parameter_iterable = <sklearn.grid_search.ParameterGrid object>\n    574                 for train, test in cv)\n    575 \n    576         # Out is a list of triplet: score, estimator, n_test_samples\n    577         n_fits = len(out)\n\n...........................................................................\nC:\\Users\\Caroline\\Anaconda2\\lib\\site-packages\\sklearn\\externals\\joblib\\parallel.py in __call__(self=Parallel(n_jobs=-1), iterable=<generator object <genexpr>>)\n    763             if pre_dispatch == \"all\" or n_jobs == 1:\n    764                 # The iterable was consumed all at once by the above for loop.\n    765                 # No need to wait for async callbacks to trigger to\n    766                 # consumption.\n    767                 self._iterating = False\n--> 768             self.retrieve()\n        self.retrieve = <bound method Parallel.retrieve of Parallel(n_jobs=-1)>\n    769             # Make sure that we get a last message telling us we are done\n    770             elapsed_time = time.time() - self._start_time\n    771             self._print('Done %3i out of %3i | elapsed: %s finished',\n    772                         (len(self._output), len(self._output),\n\n---------------------------------------------------------------------------\nSub-process traceback:\n---------------------------------------------------------------------------\nIndexError                                         Wed Nov 23 15:21:43 2016\nPID: 8012             Python 2.7.12: C:\\Users\\Caroline\\Anaconda2\\python.exe\n...........................................................................\nC:\\Users\\Caroline\\Anaconda2\\lib\\site-packages\\sklearn\\externals\\joblib\\parallel.py in __call__(self=<sklearn.externals.joblib.parallel.BatchedCalls object>)\n    126     def __init__(self, iterator_slice):\n    127         self.items = list(iterator_slice)\n    128         self._size = len(self.items)\n    129 \n    130     def __call__(self):\n--> 131         return [func(*args, **kwargs) for func, args, kwargs in self.items]\n        func = <function _fit_and_score>\n        args = (LogisticRegression(C=1e-06, class_weight=None, d...ol=0.0001,\n          verbose=0, warm_start=False),          NOPRIOR  NUMSUBS  AGE_15to 17  AGE_18 t...660111          0.0  \n\n[102490 rows x 42 columns], 539557     1\n1465128    1\n1091784    1\n1520858  ...881     0\n660111     1\nName: REASON, dtype: int64, <function _passthrough_scorer>, memmap([      2,       3,       4, ..., 1024892, 1024893, 1024895]), array([      0,       1,       6, ..., 1024889, 1024891, 1024894]), True, {'C': 1e-06, 'penalty': 'l1'}, {})\n        kwargs = {'error_score': 'raise', 'return_parameters': True}\n        self.items = [(<function _fit_and_score>, (LogisticRegression(C=1e-06, class_weight=None, d...ol=0.0001,\n          verbose=0, warm_start=False),          NOPRIOR  NUMSUBS  AGE_15to 17  AGE_18 t...660111          0.0  \n\n[102490 rows x 42 columns], 539557     1\n1465128    1\n1091784    1\n1520858  ...881     0\n660111     1\nName: REASON, dtype: int64, <function _passthrough_scorer>, memmap([      2,       3,       4, ..., 1024892, 1024893, 1024895]), array([      0,       1,       6, ..., 1024889, 1024891, 1024894]), True, {'C': 1e-06, 'penalty': 'l1'}, {}), {'error_score': 'raise', 'return_parameters': True})]\n    132 \n    133     def __len__(self):\n    134         return self._size\n    135 \n\n...........................................................................\nC:\\Users\\Caroline\\Anaconda2\\lib\\site-packages\\sklearn\\cross_validation.py in _fit_and_score(estimator=LogisticRegression(C=1e-06, class_weight=None, d...ol=0.0001,\n          verbose=0, warm_start=False), X=         NOPRIOR  NUMSUBS  AGE_15to 17  AGE_18 t...660111          0.0  \n\n[102490 rows x 42 columns], y=539557     1\n1465128    1\n1091784    1\n1520858  ...881     0\n660111     1\nName: REASON, dtype: int64, scorer=<function _passthrough_scorer>, train=memmap([      2,       3,       4, ..., 1024892, 1024893, 1024895]), test=array([      0,       1,       6, ..., 1024889, 1024891, 1024894]), verbose=True, parameters={'C': 1e-06, 'penalty': 'l1'}, fit_params={}, return_train_score=False, return_parameters=True, error_score='raise')\n   1653     if parameters is not None:\n   1654         estimator.set_params(**parameters)\n   1655 \n   1656     start_time = time.time()\n   1657 \n-> 1658     X_train, y_train = _safe_split(estimator, X, y, train)\n        X_train = undefined\n        y_train = undefined\n        estimator = LogisticRegression(C=1e-06, class_weight=None, d...ol=0.0001,\n          verbose=0, warm_start=False)\n        X =          NOPRIOR  NUMSUBS  AGE_15to 17  AGE_18 t...660111          0.0  \n\n[102490 rows x 42 columns]\n        y = 539557     1\n1465128    1\n1091784    1\n1520858  ...881     0\n660111     1\nName: REASON, dtype: int64\n        train = memmap([      2,       3,       4, ..., 1024892, 1024893, 1024895])\n   1659     X_test, y_test = _safe_split(estimator, X, y, test, train)\n   1660 \n   1661     try:\n   1662         if y_train is None:\n\n...........................................................................\nC:\\Users\\Caroline\\Anaconda2\\lib\\site-packages\\sklearn\\cross_validation.py in _safe_split(estimator=LogisticRegression(C=1e-06, class_weight=None, d...ol=0.0001,\n          verbose=0, warm_start=False), X=         NOPRIOR  NUMSUBS  AGE_15to 17  AGE_18 t...660111          0.0  \n\n[102490 rows x 42 columns], y=539557     1\n1465128    1\n1091784    1\n1520858  ...881     0\n660111     1\nName: REASON, dtype: int64, indices=memmap([      2,       3,       4, ..., 1024892, 1024893, 1024895]), train_indices=None)\n   1721             if train_indices is None:\n   1722                 X_subset = X[np.ix_(indices, indices)]\n   1723             else:\n   1724                 X_subset = X[np.ix_(indices, train_indices)]\n   1725         else:\n-> 1726             X_subset = safe_indexing(X, indices)\n        X_subset = undefined\n        X =          NOPRIOR  NUMSUBS  AGE_15to 17  AGE_18 t...660111          0.0  \n\n[102490 rows x 42 columns]\n        indices = memmap([      2,       3,       4, ..., 1024892, 1024893, 1024895])\n   1727 \n   1728     if y is not None:\n   1729         y_subset = safe_indexing(y, indices)\n   1730     else:\n\n...........................................................................\nC:\\Users\\Caroline\\Anaconda2\\lib\\site-packages\\sklearn\\utils\\__init__.py in safe_indexing(X=         NOPRIOR  NUMSUBS  AGE_15to 17  AGE_18 t...660111          0.0  \n\n[102490 rows x 42 columns], indices=memmap([      2,       3,       4, ..., 1024892, 1024893, 1024895]))\n     94         Indices according to which X will be subsampled.\n     95     \"\"\"\n     96     if hasattr(X, \"iloc\"):\n     97         # Pandas Dataframes and Series\n     98         try:\n---> 99             return X.iloc[indices]\n        X.iloc = <pandas.core.indexing._iLocIndexer object>\n        indices = memmap([      2,       3,       4, ..., 1024892, 1024893, 1024895])\n    100         except ValueError:\n    101             # Cython typed memoryviews internally used in pandas do not support\n    102             # readonly buffers.\n    103             warnings.warn(\"Copying input dataframe for slicing.\",\n\n...........................................................................\nC:\\Users\\Caroline\\Anaconda2\\lib\\site-packages\\pandas\\core\\indexing.py in __getitem__(self=<pandas.core.indexing._iLocIndexer object>, key=memmap([      2,       3,       4, ..., 1024892, 1024893, 1024895]))\n   1291             key = com._apply_if_callable(key, self.obj)\n   1292 \n   1293         if type(key) is tuple:\n   1294             return self._getitem_tuple(key)\n   1295         else:\n-> 1296             return self._getitem_axis(key, axis=0)\n        self._getitem_axis = <bound method _iLocIndexer._getitem_axis of <pandas.core.indexing._iLocIndexer object>>\n        key = memmap([      2,       3,       4, ..., 1024892, 1024893, 1024895])\n   1297 \n   1298     def _getitem_axis(self, key, axis=0):\n   1299         raise NotImplementedError()\n   1300 \n\n...........................................................................\nC:\\Users\\Caroline\\Anaconda2\\lib\\site-packages\\pandas\\core\\indexing.py in _getitem_axis(self=<pandas.core.indexing._iLocIndexer object>, key=memmap([      2,       3,       4, ..., 1024892, 1024893, 1024895]), axis=0)\n   1594         else:\n   1595 \n   1596             if is_list_like_indexer(key):\n   1597 \n   1598                 # validate list bounds\n-> 1599                 self._is_valid_list_like(key, axis)\n        self._is_valid_list_like = <bound method _iLocIndexer._is_valid_list_like of <pandas.core.indexing._iLocIndexer object>>\n        key = memmap([      2,       3,       4, ..., 1024892, 1024893, 1024895])\n        axis = 0\n   1600 \n   1601                 # force an actual list\n   1602                 key = list(key)\n   1603 \n\n...........................................................................\nC:\\Users\\Caroline\\Anaconda2\\lib\\site-packages\\pandas\\core\\indexing.py in _is_valid_list_like(self=<pandas.core.indexing._iLocIndexer object>, key=memmap([      2,       3,       4, ..., 1024892, 1024893, 1024895]), axis=0)\n   1533         # coerce the key to not exceed the maximum size of the index\n   1534         arr = np.array(key)\n   1535         ax = self.obj._get_axis(axis)\n   1536         l = len(ax)\n   1537         if len(arr) and (arr.max() >= l or arr.min() < -l):\n-> 1538             raise IndexError(\"positional indexers are out-of-bounds\")\n   1539 \n   1540         return True\n   1541 \n   1542     def _getitem_tuple(self, tup):\n\nIndexError: positional indexers are out-of-bounds\n___________________________________________________________________________",
     "output_type": "error",
     "traceback": [
      "\u001b[1;31m\u001b[0m",
      "\u001b[1;31mJoblibIndexError\u001b[0mTraceback (most recent call last)",
      "\u001b[1;32m<ipython-input-28-daa62441c292>\u001b[0m in \u001b[0;36m<module>\u001b[1;34m()\u001b[0m\n\u001b[0;32m      7\u001b[0m \u001b[0mX_sub\u001b[0m \u001b[1;33m=\u001b[0m \u001b[0mdf_sub\u001b[0m\u001b[1;33m.\u001b[0m\u001b[0mdrop\u001b[0m\u001b[1;33m(\u001b[0m\u001b[1;33m[\u001b[0m\u001b[1;34m'AGE'\u001b[0m\u001b[1;33m,\u001b[0m \u001b[1;34m'GENDER'\u001b[0m\u001b[1;33m,\u001b[0m \u001b[1;34m'EDUC'\u001b[0m\u001b[1;33m,\u001b[0m \u001b[1;34m'EMPLOY'\u001b[0m\u001b[1;33m,\u001b[0m \u001b[1;34m'LOS'\u001b[0m\u001b[1;33m,\u001b[0m \u001b[1;34m'LIVARAG'\u001b[0m\u001b[1;33m,\u001b[0m \u001b[1;34m'PSOURCE'\u001b[0m\u001b[1;33m,\u001b[0m \u001b[1;34m'SUB1'\u001b[0m\u001b[1;33m,\u001b[0m \u001b[1;34m'REASON'\u001b[0m\u001b[1;33m]\u001b[0m\u001b[1;33m,\u001b[0m \u001b[0maxis\u001b[0m \u001b[1;33m=\u001b[0m \u001b[1;36m1\u001b[0m\u001b[1;33m,\u001b[0m \u001b[0minplace\u001b[0m \u001b[1;33m=\u001b[0m \u001b[0mFalse\u001b[0m\u001b[1;33m)\u001b[0m\u001b[1;33m\u001b[0m\u001b[0m\n\u001b[0;32m      8\u001b[0m \u001b[0my_sub\u001b[0m \u001b[1;33m=\u001b[0m \u001b[0mdf_sub\u001b[0m\u001b[1;33m[\u001b[0m\u001b[1;34m'REASON'\u001b[0m\u001b[1;33m]\u001b[0m\u001b[1;33m\u001b[0m\u001b[0m\n\u001b[1;32m----> 9\u001b[1;33m \u001b[0mlogr_grid\u001b[0m\u001b[1;33m.\u001b[0m\u001b[0mfit\u001b[0m\u001b[1;33m(\u001b[0m\u001b[0mX_sub\u001b[0m\u001b[1;33m,\u001b[0m\u001b[0my_sub\u001b[0m\u001b[1;33m)\u001b[0m\u001b[1;33m\u001b[0m\u001b[0m\n\u001b[0m",
      "\u001b[1;32mC:\\Users\\Caroline\\Anaconda2\\lib\\site-packages\\sklearn\\grid_search.pyc\u001b[0m in \u001b[0;36mfit\u001b[1;34m(self, X, y)\u001b[0m\n\u001b[0;32m    827\u001b[0m \u001b[1;33m\u001b[0m\u001b[0m\n\u001b[0;32m    828\u001b[0m         \"\"\"\n\u001b[1;32m--> 829\u001b[1;33m         \u001b[1;32mreturn\u001b[0m \u001b[0mself\u001b[0m\u001b[1;33m.\u001b[0m\u001b[0m_fit\u001b[0m\u001b[1;33m(\u001b[0m\u001b[0mX\u001b[0m\u001b[1;33m,\u001b[0m \u001b[0my\u001b[0m\u001b[1;33m,\u001b[0m \u001b[0mParameterGrid\u001b[0m\u001b[1;33m(\u001b[0m\u001b[0mself\u001b[0m\u001b[1;33m.\u001b[0m\u001b[0mparam_grid\u001b[0m\u001b[1;33m)\u001b[0m\u001b[1;33m)\u001b[0m\u001b[1;33m\u001b[0m\u001b[0m\n\u001b[0m\u001b[0;32m    830\u001b[0m \u001b[1;33m\u001b[0m\u001b[0m\n\u001b[0;32m    831\u001b[0m \u001b[1;33m\u001b[0m\u001b[0m\n",
      "\u001b[1;32mC:\\Users\\Caroline\\Anaconda2\\lib\\site-packages\\sklearn\\grid_search.pyc\u001b[0m in \u001b[0;36m_fit\u001b[1;34m(self, X, y, parameter_iterable)\u001b[0m\n\u001b[0;32m    571\u001b[0m                                     \u001b[0mself\u001b[0m\u001b[1;33m.\u001b[0m\u001b[0mfit_params\u001b[0m\u001b[1;33m,\u001b[0m \u001b[0mreturn_parameters\u001b[0m\u001b[1;33m=\u001b[0m\u001b[0mTrue\u001b[0m\u001b[1;33m,\u001b[0m\u001b[1;33m\u001b[0m\u001b[0m\n\u001b[0;32m    572\u001b[0m                                     error_score=self.error_score)\n\u001b[1;32m--> 573\u001b[1;33m                 \u001b[1;32mfor\u001b[0m \u001b[0mparameters\u001b[0m \u001b[1;32min\u001b[0m \u001b[0mparameter_iterable\u001b[0m\u001b[1;33m\u001b[0m\u001b[0m\n\u001b[0m\u001b[0;32m    574\u001b[0m                 for train, test in cv)\n\u001b[0;32m    575\u001b[0m \u001b[1;33m\u001b[0m\u001b[0m\n",
      "\u001b[1;32mC:\\Users\\Caroline\\Anaconda2\\lib\\site-packages\\sklearn\\externals\\joblib\\parallel.pyc\u001b[0m in \u001b[0;36m__call__\u001b[1;34m(self, iterable)\u001b[0m\n\u001b[0;32m    766\u001b[0m                 \u001b[1;31m# consumption.\u001b[0m\u001b[1;33m\u001b[0m\u001b[1;33m\u001b[0m\u001b[0m\n\u001b[0;32m    767\u001b[0m                 \u001b[0mself\u001b[0m\u001b[1;33m.\u001b[0m\u001b[0m_iterating\u001b[0m \u001b[1;33m=\u001b[0m \u001b[0mFalse\u001b[0m\u001b[1;33m\u001b[0m\u001b[0m\n\u001b[1;32m--> 768\u001b[1;33m             \u001b[0mself\u001b[0m\u001b[1;33m.\u001b[0m\u001b[0mretrieve\u001b[0m\u001b[1;33m(\u001b[0m\u001b[1;33m)\u001b[0m\u001b[1;33m\u001b[0m\u001b[0m\n\u001b[0m\u001b[0;32m    769\u001b[0m             \u001b[1;31m# Make sure that we get a last message telling us we are done\u001b[0m\u001b[1;33m\u001b[0m\u001b[1;33m\u001b[0m\u001b[0m\n\u001b[0;32m    770\u001b[0m             \u001b[0melapsed_time\u001b[0m \u001b[1;33m=\u001b[0m \u001b[0mtime\u001b[0m\u001b[1;33m.\u001b[0m\u001b[0mtime\u001b[0m\u001b[1;33m(\u001b[0m\u001b[1;33m)\u001b[0m \u001b[1;33m-\u001b[0m \u001b[0mself\u001b[0m\u001b[1;33m.\u001b[0m\u001b[0m_start_time\u001b[0m\u001b[1;33m\u001b[0m\u001b[0m\n",
      "\u001b[1;32mC:\\Users\\Caroline\\Anaconda2\\lib\\site-packages\\sklearn\\externals\\joblib\\parallel.pyc\u001b[0m in \u001b[0;36mretrieve\u001b[1;34m(self)\u001b[0m\n\u001b[0;32m    717\u001b[0m                     \u001b[0mensure_ready\u001b[0m \u001b[1;33m=\u001b[0m \u001b[0mself\u001b[0m\u001b[1;33m.\u001b[0m\u001b[0m_managed_backend\u001b[0m\u001b[1;33m\u001b[0m\u001b[0m\n\u001b[0;32m    718\u001b[0m                     \u001b[0mbackend\u001b[0m\u001b[1;33m.\u001b[0m\u001b[0mabort_everything\u001b[0m\u001b[1;33m(\u001b[0m\u001b[0mensure_ready\u001b[0m\u001b[1;33m=\u001b[0m\u001b[0mensure_ready\u001b[0m\u001b[1;33m)\u001b[0m\u001b[1;33m\u001b[0m\u001b[0m\n\u001b[1;32m--> 719\u001b[1;33m                 \u001b[1;32mraise\u001b[0m \u001b[0mexception\u001b[0m\u001b[1;33m\u001b[0m\u001b[0m\n\u001b[0m\u001b[0;32m    720\u001b[0m \u001b[1;33m\u001b[0m\u001b[0m\n\u001b[0;32m    721\u001b[0m     \u001b[1;32mdef\u001b[0m \u001b[0m__call__\u001b[0m\u001b[1;33m(\u001b[0m\u001b[0mself\u001b[0m\u001b[1;33m,\u001b[0m \u001b[0miterable\u001b[0m\u001b[1;33m)\u001b[0m\u001b[1;33m:\u001b[0m\u001b[1;33m\u001b[0m\u001b[0m\n",
      "\u001b[1;31mJoblibIndexError\u001b[0m: JoblibIndexError\n___________________________________________________________________________\nMultiprocessing exception:\n...........................................................................\nC:\\Users\\Caroline\\Anaconda2\\lib\\runpy.py in _run_module_as_main(mod_name='ipykernel.__main__', alter_argv=1)\n    169     pkg_name = mod_name.rpartition('.')[0]\n    170     main_globals = sys.modules[\"__main__\"].__dict__\n    171     if alter_argv:\n    172         sys.argv[0] = fname\n    173     return _run_code(code, main_globals, None,\n--> 174                      \"__main__\", fname, loader, pkg_name)\n        fname = r'C:\\Users\\Caroline\\Anaconda2\\lib\\site-packages\\ipykernel\\__main__.py'\n        loader = <pkgutil.ImpLoader instance>\n        pkg_name = 'ipykernel'\n    175 \n    176 def run_module(mod_name, init_globals=None,\n    177                run_name=None, alter_sys=False):\n    178     \"\"\"Execute a module's code without importing it\n\n...........................................................................\nC:\\Users\\Caroline\\Anaconda2\\lib\\runpy.py in _run_code(code=<code object <module> at 0000000002865B30, file ...lib\\site-packages\\ipykernel\\__main__.py\", line 1>, run_globals={'__builtins__': <module '__builtin__' (built-in)>, '__doc__': None, '__file__': r'C:\\Users\\Caroline\\Anaconda2\\lib\\site-packages\\ipykernel\\__main__.py', '__loader__': <pkgutil.ImpLoader instance>, '__name__': '__main__', '__package__': 'ipykernel', 'app': <module 'ipykernel.kernelapp' from 'C:\\Users\\Car...onda2\\lib\\site-packages\\ipykernel\\kernelapp.pyc'>}, init_globals=None, mod_name='__main__', mod_fname=r'C:\\Users\\Caroline\\Anaconda2\\lib\\site-packages\\ipykernel\\__main__.py', mod_loader=<pkgutil.ImpLoader instance>, pkg_name='ipykernel')\n     67         run_globals.update(init_globals)\n     68     run_globals.update(__name__ = mod_name,\n     69                        __file__ = mod_fname,\n     70                        __loader__ = mod_loader,\n     71                        __package__ = pkg_name)\n---> 72     exec code in run_globals\n        code = <code object <module> at 0000000002865B30, file ...lib\\site-packages\\ipykernel\\__main__.py\", line 1>\n        run_globals = {'__builtins__': <module '__builtin__' (built-in)>, '__doc__': None, '__file__': r'C:\\Users\\Caroline\\Anaconda2\\lib\\site-packages\\ipykernel\\__main__.py', '__loader__': <pkgutil.ImpLoader instance>, '__name__': '__main__', '__package__': 'ipykernel', 'app': <module 'ipykernel.kernelapp' from 'C:\\Users\\Car...onda2\\lib\\site-packages\\ipykernel\\kernelapp.pyc'>}\n     73     return run_globals\n     74 \n     75 def _run_module_code(code, init_globals=None,\n     76                     mod_name=None, mod_fname=None,\n\n...........................................................................\nC:\\Users\\Caroline\\Anaconda2\\lib\\site-packages\\ipykernel\\__main__.py in <module>()\n      1 \n      2 \n----> 3 \n      4 if __name__ == '__main__':\n      5     from ipykernel import kernelapp as app\n      6     app.launch_new_instance()\n      7 \n      8 \n      9 \n     10 \n\n...........................................................................\nC:\\Users\\Caroline\\Anaconda2\\lib\\site-packages\\traitlets\\config\\application.py in launch_instance(cls=<class 'ipykernel.kernelapp.IPKernelApp'>, argv=None, **kwargs={})\n    591         \n    592         If a global instance already exists, this reinitializes and starts it\n    593         \"\"\"\n    594         app = cls.instance(**kwargs)\n    595         app.initialize(argv)\n--> 596         app.start()\n        app.start = <bound method IPKernelApp.start of <ipykernel.kernelapp.IPKernelApp object>>\n    597 \n    598 #-----------------------------------------------------------------------------\n    599 # utility functions, for convenience\n    600 #-----------------------------------------------------------------------------\n\n...........................................................................\nC:\\Users\\Caroline\\Anaconda2\\lib\\site-packages\\ipykernel\\kernelapp.py in start(self=<ipykernel.kernelapp.IPKernelApp object>)\n    437         \n    438         if self.poller is not None:\n    439             self.poller.start()\n    440         self.kernel.start()\n    441         try:\n--> 442             ioloop.IOLoop.instance().start()\n    443         except KeyboardInterrupt:\n    444             pass\n    445 \n    446 launch_new_instance = IPKernelApp.launch_instance\n\n...........................................................................\nC:\\Users\\Caroline\\Anaconda2\\lib\\site-packages\\zmq\\eventloop\\ioloop.py in start(self=<zmq.eventloop.ioloop.ZMQIOLoop object>)\n    157             PollIOLoop.configure(ZMQIOLoop)\n    158         return PollIOLoop.current(*args, **kwargs)\n    159     \n    160     def start(self):\n    161         try:\n--> 162             super(ZMQIOLoop, self).start()\n        self.start = <bound method ZMQIOLoop.start of <zmq.eventloop.ioloop.ZMQIOLoop object>>\n    163         except ZMQError as e:\n    164             if e.errno == ETERM:\n    165                 # quietly return on ETERM\n    166                 pass\n\n...........................................................................\nC:\\Users\\Caroline\\Anaconda2\\lib\\site-packages\\tornado\\ioloop.py in start(self=<zmq.eventloop.ioloop.ZMQIOLoop object>)\n    878                 self._events.update(event_pairs)\n    879                 while self._events:\n    880                     fd, events = self._events.popitem()\n    881                     try:\n    882                         fd_obj, handler_func = self._handlers[fd]\n--> 883                         handler_func(fd_obj, events)\n        handler_func = <function null_wrapper>\n        fd_obj = <zmq.sugar.socket.Socket object>\n        events = 1\n    884                     except (OSError, IOError) as e:\n    885                         if errno_from_exception(e) == errno.EPIPE:\n    886                             # Happens when the client closes the connection\n    887                             pass\n\n...........................................................................\nC:\\Users\\Caroline\\Anaconda2\\lib\\site-packages\\tornado\\stack_context.py in null_wrapper(*args=(<zmq.sugar.socket.Socket object>, 1), **kwargs={})\n    270         # Fast path when there are no active contexts.\n    271         def null_wrapper(*args, **kwargs):\n    272             try:\n    273                 current_state = _state.contexts\n    274                 _state.contexts = cap_contexts[0]\n--> 275                 return fn(*args, **kwargs)\n        args = (<zmq.sugar.socket.Socket object>, 1)\n        kwargs = {}\n    276             finally:\n    277                 _state.contexts = current_state\n    278         null_wrapper._wrapped = True\n    279         return null_wrapper\n\n...........................................................................\nC:\\Users\\Caroline\\Anaconda2\\lib\\site-packages\\zmq\\eventloop\\zmqstream.py in _handle_events(self=<zmq.eventloop.zmqstream.ZMQStream object>, fd=<zmq.sugar.socket.Socket object>, events=1)\n    435             # dispatch events:\n    436             if events & IOLoop.ERROR:\n    437                 gen_log.error(\"got POLLERR event on ZMQStream, which doesn't make sense\")\n    438                 return\n    439             if events & IOLoop.READ:\n--> 440                 self._handle_recv()\n        self._handle_recv = <bound method ZMQStream._handle_recv of <zmq.eventloop.zmqstream.ZMQStream object>>\n    441                 if not self.socket:\n    442                     return\n    443             if events & IOLoop.WRITE:\n    444                 self._handle_send()\n\n...........................................................................\nC:\\Users\\Caroline\\Anaconda2\\lib\\site-packages\\zmq\\eventloop\\zmqstream.py in _handle_recv(self=<zmq.eventloop.zmqstream.ZMQStream object>)\n    467                 gen_log.error(\"RECV Error: %s\"%zmq.strerror(e.errno))\n    468         else:\n    469             if self._recv_callback:\n    470                 callback = self._recv_callback\n    471                 # self._recv_callback = None\n--> 472                 self._run_callback(callback, msg)\n        self._run_callback = <bound method ZMQStream._run_callback of <zmq.eventloop.zmqstream.ZMQStream object>>\n        callback = <function null_wrapper>\n        msg = [<zmq.sugar.frame.Frame object>, <zmq.sugar.frame.Frame object>, <zmq.sugar.frame.Frame object>, <zmq.sugar.frame.Frame object>, <zmq.sugar.frame.Frame object>, <zmq.sugar.frame.Frame object>, <zmq.sugar.frame.Frame object>]\n    473                 \n    474         # self.update_state()\n    475         \n    476 \n\n...........................................................................\nC:\\Users\\Caroline\\Anaconda2\\lib\\site-packages\\zmq\\eventloop\\zmqstream.py in _run_callback(self=<zmq.eventloop.zmqstream.ZMQStream object>, callback=<function null_wrapper>, *args=([<zmq.sugar.frame.Frame object>, <zmq.sugar.frame.Frame object>, <zmq.sugar.frame.Frame object>, <zmq.sugar.frame.Frame object>, <zmq.sugar.frame.Frame object>, <zmq.sugar.frame.Frame object>, <zmq.sugar.frame.Frame object>],), **kwargs={})\n    409         close our socket.\"\"\"\n    410         try:\n    411             # Use a NullContext to ensure that all StackContexts are run\n    412             # inside our blanket exception handler rather than outside.\n    413             with stack_context.NullContext():\n--> 414                 callback(*args, **kwargs)\n        callback = <function null_wrapper>\n        args = ([<zmq.sugar.frame.Frame object>, <zmq.sugar.frame.Frame object>, <zmq.sugar.frame.Frame object>, <zmq.sugar.frame.Frame object>, <zmq.sugar.frame.Frame object>, <zmq.sugar.frame.Frame object>, <zmq.sugar.frame.Frame object>],)\n        kwargs = {}\n    415         except:\n    416             gen_log.error(\"Uncaught exception, closing connection.\",\n    417                           exc_info=True)\n    418             # Close the socket on an uncaught exception from a user callback\n\n...........................................................................\nC:\\Users\\Caroline\\Anaconda2\\lib\\site-packages\\tornado\\stack_context.py in null_wrapper(*args=([<zmq.sugar.frame.Frame object>, <zmq.sugar.frame.Frame object>, <zmq.sugar.frame.Frame object>, <zmq.sugar.frame.Frame object>, <zmq.sugar.frame.Frame object>, <zmq.sugar.frame.Frame object>, <zmq.sugar.frame.Frame object>],), **kwargs={})\n    270         # Fast path when there are no active contexts.\n    271         def null_wrapper(*args, **kwargs):\n    272             try:\n    273                 current_state = _state.contexts\n    274                 _state.contexts = cap_contexts[0]\n--> 275                 return fn(*args, **kwargs)\n        args = ([<zmq.sugar.frame.Frame object>, <zmq.sugar.frame.Frame object>, <zmq.sugar.frame.Frame object>, <zmq.sugar.frame.Frame object>, <zmq.sugar.frame.Frame object>, <zmq.sugar.frame.Frame object>, <zmq.sugar.frame.Frame object>],)\n        kwargs = {}\n    276             finally:\n    277                 _state.contexts = current_state\n    278         null_wrapper._wrapped = True\n    279         return null_wrapper\n\n...........................................................................\nC:\\Users\\Caroline\\Anaconda2\\lib\\site-packages\\ipykernel\\kernelbase.py in dispatcher(msg=[<zmq.sugar.frame.Frame object>, <zmq.sugar.frame.Frame object>, <zmq.sugar.frame.Frame object>, <zmq.sugar.frame.Frame object>, <zmq.sugar.frame.Frame object>, <zmq.sugar.frame.Frame object>, <zmq.sugar.frame.Frame object>])\n    271         if self.control_stream:\n    272             self.control_stream.on_recv(self.dispatch_control, copy=False)\n    273 \n    274         def make_dispatcher(stream):\n    275             def dispatcher(msg):\n--> 276                 return self.dispatch_shell(stream, msg)\n        msg = [<zmq.sugar.frame.Frame object>, <zmq.sugar.frame.Frame object>, <zmq.sugar.frame.Frame object>, <zmq.sugar.frame.Frame object>, <zmq.sugar.frame.Frame object>, <zmq.sugar.frame.Frame object>, <zmq.sugar.frame.Frame object>]\n    277             return dispatcher\n    278 \n    279         for s in self.shell_streams:\n    280             s.on_recv(make_dispatcher(s), copy=False)\n\n...........................................................................\nC:\\Users\\Caroline\\Anaconda2\\lib\\site-packages\\ipykernel\\kernelbase.py in dispatch_shell(self=<ipykernel.ipkernel.IPythonKernel object>, stream=<zmq.eventloop.zmqstream.ZMQStream object>, msg={'buffers': [], 'content': {u'allow_stdin': True, u'code': u'logr = linear_model.LogisticRegression()\\npara...= df_sub[\\'REASON\\']\\nlogr_grid.fit(X_sub,y_sub)', u'silent': False, u'stop_on_error': True, u'store_history': True, u'user_expressions': {}}, 'header': {'date': '2016-11-23T15:20:56.051000', u'msg_id': u'E78513DC8EF14390A391AA61F6B34196', u'msg_type': u'execute_request', u'session': u'26582A89FCFE44A9A5130D7F2E77ECD8', u'username': u'username', u'version': u'5.0'}, 'metadata': {}, 'msg_id': u'E78513DC8EF14390A391AA61F6B34196', 'msg_type': u'execute_request', 'parent_header': {}})\n    223             self.log.error(\"UNKNOWN MESSAGE TYPE: %r\", msg_type)\n    224         else:\n    225             self.log.debug(\"%s: %s\", msg_type, msg)\n    226             self.pre_handler_hook()\n    227             try:\n--> 228                 handler(stream, idents, msg)\n        handler = <bound method IPythonKernel.execute_request of <ipykernel.ipkernel.IPythonKernel object>>\n        stream = <zmq.eventloop.zmqstream.ZMQStream object>\n        idents = ['26582A89FCFE44A9A5130D7F2E77ECD8']\n        msg = {'buffers': [], 'content': {u'allow_stdin': True, u'code': u'logr = linear_model.LogisticRegression()\\npara...= df_sub[\\'REASON\\']\\nlogr_grid.fit(X_sub,y_sub)', u'silent': False, u'stop_on_error': True, u'store_history': True, u'user_expressions': {}}, 'header': {'date': '2016-11-23T15:20:56.051000', u'msg_id': u'E78513DC8EF14390A391AA61F6B34196', u'msg_type': u'execute_request', u'session': u'26582A89FCFE44A9A5130D7F2E77ECD8', u'username': u'username', u'version': u'5.0'}, 'metadata': {}, 'msg_id': u'E78513DC8EF14390A391AA61F6B34196', 'msg_type': u'execute_request', 'parent_header': {}}\n    229             except Exception:\n    230                 self.log.error(\"Exception in message handler:\", exc_info=True)\n    231             finally:\n    232                 self.post_handler_hook()\n\n...........................................................................\nC:\\Users\\Caroline\\Anaconda2\\lib\\site-packages\\ipykernel\\kernelbase.py in execute_request(self=<ipykernel.ipkernel.IPythonKernel object>, stream=<zmq.eventloop.zmqstream.ZMQStream object>, ident=['26582A89FCFE44A9A5130D7F2E77ECD8'], parent={'buffers': [], 'content': {u'allow_stdin': True, u'code': u'logr = linear_model.LogisticRegression()\\npara...= df_sub[\\'REASON\\']\\nlogr_grid.fit(X_sub,y_sub)', u'silent': False, u'stop_on_error': True, u'store_history': True, u'user_expressions': {}}, 'header': {'date': '2016-11-23T15:20:56.051000', u'msg_id': u'E78513DC8EF14390A391AA61F6B34196', u'msg_type': u'execute_request', u'session': u'26582A89FCFE44A9A5130D7F2E77ECD8', u'username': u'username', u'version': u'5.0'}, 'metadata': {}, 'msg_id': u'E78513DC8EF14390A391AA61F6B34196', 'msg_type': u'execute_request', 'parent_header': {}})\n    386         if not silent:\n    387             self.execution_count += 1\n    388             self._publish_execute_input(code, parent, self.execution_count)\n    389 \n    390         reply_content = self.do_execute(code, silent, store_history,\n--> 391                                         user_expressions, allow_stdin)\n        user_expressions = {}\n        allow_stdin = True\n    392 \n    393         # Flush output before sending the reply.\n    394         sys.stdout.flush()\n    395         sys.stderr.flush()\n\n...........................................................................\nC:\\Users\\Caroline\\Anaconda2\\lib\\site-packages\\ipykernel\\ipkernel.py in do_execute(self=<ipykernel.ipkernel.IPythonKernel object>, code=u'logr = linear_model.LogisticRegression()\\npara...= df_sub[\\'REASON\\']\\nlogr_grid.fit(X_sub,y_sub)', silent=False, store_history=True, user_expressions={}, allow_stdin=True)\n    194 \n    195         reply_content = {}\n    196         # FIXME: the shell calls the exception handler itself.\n    197         shell._reply_content = None\n    198         try:\n--> 199             shell.run_cell(code, store_history=store_history, silent=silent)\n        shell.run_cell = <bound method ZMQInteractiveShell.run_cell of <ipykernel.zmqshell.ZMQInteractiveShell object>>\n        code = u'logr = linear_model.LogisticRegression()\\npara...= df_sub[\\'REASON\\']\\nlogr_grid.fit(X_sub,y_sub)'\n        store_history = True\n        silent = False\n    200         except:\n    201             status = u'error'\n    202             # FIXME: this code right now isn't being used yet by default,\n    203             # because the run_cell() call above directly fires off exception\n\n...........................................................................\nC:\\Users\\Caroline\\Anaconda2\\lib\\site-packages\\IPython\\core\\interactiveshell.py in run_cell(self=<ipykernel.zmqshell.ZMQInteractiveShell object>, raw_cell=u'logr = linear_model.LogisticRegression()\\npara...= df_sub[\\'REASON\\']\\nlogr_grid.fit(X_sub,y_sub)', store_history=True, silent=False, shell_futures=True)\n   2718                 self.displayhook.exec_result = result\n   2719 \n   2720                 # Execute the user code\n   2721                 interactivity = \"none\" if silent else self.ast_node_interactivity\n   2722                 self.run_ast_nodes(code_ast.body, cell_name,\n-> 2723                    interactivity=interactivity, compiler=compiler, result=result)\n        interactivity = 'last_expr'\n        compiler = <IPython.core.compilerop.CachingCompiler instance>\n   2724 \n   2725                 # Reset this so later displayed values do not modify the\n   2726                 # ExecutionResult\n   2727                 self.displayhook.exec_result = None\n\n...........................................................................\nC:\\Users\\Caroline\\Anaconda2\\lib\\site-packages\\IPython\\core\\interactiveshell.py in run_ast_nodes(self=<ipykernel.zmqshell.ZMQInteractiveShell object>, nodelist=[<_ast.Assign object>, <_ast.Assign object>, <_ast.ImportFrom object>, <_ast.Assign object>, <_ast.Assign object>, <_ast.Assign object>, <_ast.Assign object>, <_ast.Expr object>], cell_name='<ipython-input-28-daa62441c292>', interactivity='last', compiler=<IPython.core.compilerop.CachingCompiler instance>, result=<IPython.core.interactiveshell.ExecutionResult object>)\n   2826                     return True\n   2827 \n   2828             for i, node in enumerate(to_run_interactive):\n   2829                 mod = ast.Interactive([node])\n   2830                 code = compiler(mod, cell_name, \"single\")\n-> 2831                 if self.run_code(code, result):\n        self.run_code = <bound method ZMQInteractiveShell.run_code of <ipykernel.zmqshell.ZMQInteractiveShell object>>\n        code = <code object <module> at 000000001350B930, file \"<ipython-input-28-daa62441c292>\", line 9>\n        result = <IPython.core.interactiveshell.ExecutionResult object>\n   2832                     return True\n   2833 \n   2834             # Flush softspace\n   2835             if softspace(sys.stdout, 0):\n\n...........................................................................\nC:\\Users\\Caroline\\Anaconda2\\lib\\site-packages\\IPython\\core\\interactiveshell.py in run_code(self=<ipykernel.zmqshell.ZMQInteractiveShell object>, code_obj=<code object <module> at 000000001350B930, file \"<ipython-input-28-daa62441c292>\", line 9>, result=<IPython.core.interactiveshell.ExecutionResult object>)\n   2880         outflag = 1  # happens in more places, so it's easier as default\n   2881         try:\n   2882             try:\n   2883                 self.hooks.pre_run_code_hook()\n   2884                 #rprint('Running code', repr(code_obj)) # dbg\n-> 2885                 exec(code_obj, self.user_global_ns, self.user_ns)\n        code_obj = <code object <module> at 000000001350B930, file \"<ipython-input-28-daa62441c292>\", line 9>\n        self.user_global_ns = {'AGE_Map': {1: '11 and Under', 2: '12 to 14', 3: '15to 17', 4: '18 to 20', 5: '21 to 23', 6: '25 to 29', 7: '30 to 34', 8: '35 to 39', 9: '40 to 44', 10: '45 to 49', ...}, 'EDUC_Map': {1: '8 Years or Less', 2: '9 to 11', 3: '12', 4: '13 to 15', 5: '16 or More'}, 'EMPLOY_Map': {1: 'Full Time', 2: 'Part Time', 3: 'Unemployed', 4: 'Not in Labour Force'}, 'GENDER_Map': {1: 'Male', 2: 'Female'}, 'GridSearchCV': <class 'sklearn.grid_search.GridSearchCV'>, 'In': ['', u\"import pandas as pd\\nimport numpy as np\\nimpor...lotlib inline')\\nimport matplotlib.pyplot as plt\", u\"df_raw = pd.read_table('Discharge_Data.tsv')\", u\"df = df_raw.loc[df_raw['REASON'].isin([1,2])]\", u\"df = df.replace(-9, np.nan)\\ndf['REASON'] = df['REASON'].replace(2, 0)\", u\"# subset data according to above variables\\ndf...harting ordinal variables\\ndf_mapped = df.copy()\", u\"AGE_Map = {1: '11 and Under',\\n           2: '...f_mapped['AGE'].replace(AGE_Map, inplace = True)\", u\"GENDER_Map = {1: 'Male',\\n              2: 'Fe...ed['GENDER'].replace(GENDER_Map, inplace = True)\", u\"# mapping education\\nEDUC_Map = {1: '8 Years o...mapped['EDUC'].replace(EDUC_Map, inplace = True)\", u\"# mapping employment status\\nEMPLOY_Map = {1: ...ed['EMPLOY'].replace(EMPLOY_Map, inplace = True)\", u\"# mapping living arrangement status\\nLIVARAG_M...['LIVARAG'].replace(LIVARAG_Map, inplace = True)\", u\"# mapping length of stay - although the data i...S.isin(range(16,31)), '16-30', df_mapped['LOS'])\", u\"# mapping principal source of referral\\nPSOURC...['PSOURCE'].replace(PSOURCE_Map, inplace = True)\", u\"# mapping substances\\nSUB1_Map = {2: 'Alcohol'...15,16,17,18,18,20]), 'Other', df_mapped['SUB1'])\", u\"dummies = pd.get_dummies(df_mapped[['AGE', 'GE..., 'LOS', 'PSOURCE', 'SUB1']], drop_first = True)\", u'df_mapped1 = df_mapped.join(dummies)', u\"y = df_mapped1['REASON']\\nX = df_mapped1.drop(...linear_model.LogisticRegression()\\nlogr.fit(X,y)\", u'from sklearn.cross_validation import cross_val...ing = \"accuracy\")\\nprint perf.mean(), perf.std()', u\"features = df_mapped[['AGE', 'GENDER', 'EDUC',...['REASON'], normalize = 'index', margins = True)\", u\"features = ['AGE', 'GENDER', 'EDUC', 'EMPLOY',...['REASON'], normalize = 'index', margins = True)\", ...], 'KFold': <class 'sklearn.cross_validation.KFold'>, 'LIVARAG_Map': {1: 'Homeless', 2: 'Dependent', 3: 'Independent'}, 'LOS_map': {31: '31-45', 32: '46-60', 33: '61-90', 34: '90-120', 35: '121-180', 36: '181-365', 37: '365+'}, 'Out': {16: LogisticRegression(C=1.0, class_weight=None, dua...ol=0.0001,\n          verbose=0, warm_start=False)}, ...}\n        self.user_ns = {'AGE_Map': {1: '11 and Under', 2: '12 to 14', 3: '15to 17', 4: '18 to 20', 5: '21 to 23', 6: '25 to 29', 7: '30 to 34', 8: '35 to 39', 9: '40 to 44', 10: '45 to 49', ...}, 'EDUC_Map': {1: '8 Years or Less', 2: '9 to 11', 3: '12', 4: '13 to 15', 5: '16 or More'}, 'EMPLOY_Map': {1: 'Full Time', 2: 'Part Time', 3: 'Unemployed', 4: 'Not in Labour Force'}, 'GENDER_Map': {1: 'Male', 2: 'Female'}, 'GridSearchCV': <class 'sklearn.grid_search.GridSearchCV'>, 'In': ['', u\"import pandas as pd\\nimport numpy as np\\nimpor...lotlib inline')\\nimport matplotlib.pyplot as plt\", u\"df_raw = pd.read_table('Discharge_Data.tsv')\", u\"df = df_raw.loc[df_raw['REASON'].isin([1,2])]\", u\"df = df.replace(-9, np.nan)\\ndf['REASON'] = df['REASON'].replace(2, 0)\", u\"# subset data according to above variables\\ndf...harting ordinal variables\\ndf_mapped = df.copy()\", u\"AGE_Map = {1: '11 and Under',\\n           2: '...f_mapped['AGE'].replace(AGE_Map, inplace = True)\", u\"GENDER_Map = {1: 'Male',\\n              2: 'Fe...ed['GENDER'].replace(GENDER_Map, inplace = True)\", u\"# mapping education\\nEDUC_Map = {1: '8 Years o...mapped['EDUC'].replace(EDUC_Map, inplace = True)\", u\"# mapping employment status\\nEMPLOY_Map = {1: ...ed['EMPLOY'].replace(EMPLOY_Map, inplace = True)\", u\"# mapping living arrangement status\\nLIVARAG_M...['LIVARAG'].replace(LIVARAG_Map, inplace = True)\", u\"# mapping length of stay - although the data i...S.isin(range(16,31)), '16-30', df_mapped['LOS'])\", u\"# mapping principal source of referral\\nPSOURC...['PSOURCE'].replace(PSOURCE_Map, inplace = True)\", u\"# mapping substances\\nSUB1_Map = {2: 'Alcohol'...15,16,17,18,18,20]), 'Other', df_mapped['SUB1'])\", u\"dummies = pd.get_dummies(df_mapped[['AGE', 'GE..., 'LOS', 'PSOURCE', 'SUB1']], drop_first = True)\", u'df_mapped1 = df_mapped.join(dummies)', u\"y = df_mapped1['REASON']\\nX = df_mapped1.drop(...linear_model.LogisticRegression()\\nlogr.fit(X,y)\", u'from sklearn.cross_validation import cross_val...ing = \"accuracy\")\\nprint perf.mean(), perf.std()', u\"features = df_mapped[['AGE', 'GENDER', 'EDUC',...['REASON'], normalize = 'index', margins = True)\", u\"features = ['AGE', 'GENDER', 'EDUC', 'EMPLOY',...['REASON'], normalize = 'index', margins = True)\", ...], 'KFold': <class 'sklearn.cross_validation.KFold'>, 'LIVARAG_Map': {1: 'Homeless', 2: 'Dependent', 3: 'Independent'}, 'LOS_map': {31: '31-45', 32: '46-60', 33: '61-90', 34: '90-120', 35: '121-180', 36: '181-365', 37: '365+'}, 'Out': {16: LogisticRegression(C=1.0, class_weight=None, dua...ol=0.0001,\n          verbose=0, warm_start=False)}, ...}\n   2886             finally:\n   2887                 # Reset our crash handler in place\n   2888                 sys.excepthook = old_excepthook\n   2889         except SystemExit as e:\n\n...........................................................................\nC:\\Users\\Caroline\\GitStuff\\ds-homework\\<ipython-input-28-daa62441c292> in <module>()\n      4 from sklearn.grid_search import GridSearchCV\n      5 logr_grid = GridSearchCV(logr, params, n_jobs =-1, verbose = True, cv=cv)\n      6 df_sub = df_mapped1.sample(frac = 0.1)\n      7 X_sub = df_sub.drop(['AGE', 'GENDER', 'EDUC', 'EMPLOY', 'LOS', 'LIVARAG', 'PSOURCE', 'SUB1', 'REASON'], axis = 1, inplace = False)\n      8 y_sub = df_sub['REASON']\n----> 9 logr_grid.fit(X_sub,y_sub)\n     10 \n     11 \n     12 \n     13 \n\n...........................................................................\nC:\\Users\\Caroline\\Anaconda2\\lib\\site-packages\\sklearn\\grid_search.py in fit(self=GridSearchCV(cv=sklearn.cross_validation.Stratif...*n_jobs', refit=True, scoring=None, verbose=True), X=         NOPRIOR  NUMSUBS  AGE_15to 17  AGE_18 t...660111          0.0  \n\n[102490 rows x 42 columns], y=539557     1\n1465128    1\n1091784    1\n1520858  ...881     0\n660111     1\nName: REASON, dtype: int64)\n    824         y : array-like, shape = [n_samples] or [n_samples, n_output], optional\n    825             Target relative to X for classification or regression;\n    826             None for unsupervised learning.\n    827 \n    828         \"\"\"\n--> 829         return self._fit(X, y, ParameterGrid(self.param_grid))\n        self._fit = <bound method GridSearchCV._fit of GridSearchCV(...n_jobs', refit=True, scoring=None, verbose=True)>\n        X =          NOPRIOR  NUMSUBS  AGE_15to 17  AGE_18 t...660111          0.0  \n\n[102490 rows x 42 columns]\n        y = 539557     1\n1465128    1\n1091784    1\n1520858  ...881     0\n660111     1\nName: REASON, dtype: int64\n        self.param_grid = {'C': [1e-06, 0.001, 1, 100, 10000], 'penalty': ['l1', 'l2']}\n    830 \n    831 \n    832 class RandomizedSearchCV(BaseSearchCV):\n    833     \"\"\"Randomized search on hyper parameters.\n\n...........................................................................\nC:\\Users\\Caroline\\Anaconda2\\lib\\site-packages\\sklearn\\grid_search.py in _fit(self=GridSearchCV(cv=sklearn.cross_validation.Stratif...*n_jobs', refit=True, scoring=None, verbose=True), X=         NOPRIOR  NUMSUBS  AGE_15to 17  AGE_18 t...660111          0.0  \n\n[102490 rows x 42 columns], y=539557     1\n1465128    1\n1091784    1\n1520858  ...881     0\n660111     1\nName: REASON, dtype: int64, parameter_iterable=<sklearn.grid_search.ParameterGrid object>)\n    568         )(\n    569             delayed(_fit_and_score)(clone(base_estimator), X, y, self.scorer_,\n    570                                     train, test, self.verbose, parameters,\n    571                                     self.fit_params, return_parameters=True,\n    572                                     error_score=self.error_score)\n--> 573                 for parameters in parameter_iterable\n        parameters = undefined\n        parameter_iterable = <sklearn.grid_search.ParameterGrid object>\n    574                 for train, test in cv)\n    575 \n    576         # Out is a list of triplet: score, estimator, n_test_samples\n    577         n_fits = len(out)\n\n...........................................................................\nC:\\Users\\Caroline\\Anaconda2\\lib\\site-packages\\sklearn\\externals\\joblib\\parallel.py in __call__(self=Parallel(n_jobs=-1), iterable=<generator object <genexpr>>)\n    763             if pre_dispatch == \"all\" or n_jobs == 1:\n    764                 # The iterable was consumed all at once by the above for loop.\n    765                 # No need to wait for async callbacks to trigger to\n    766                 # consumption.\n    767                 self._iterating = False\n--> 768             self.retrieve()\n        self.retrieve = <bound method Parallel.retrieve of Parallel(n_jobs=-1)>\n    769             # Make sure that we get a last message telling us we are done\n    770             elapsed_time = time.time() - self._start_time\n    771             self._print('Done %3i out of %3i | elapsed: %s finished',\n    772                         (len(self._output), len(self._output),\n\n---------------------------------------------------------------------------\nSub-process traceback:\n---------------------------------------------------------------------------\nIndexError                                         Wed Nov 23 15:21:43 2016\nPID: 8012             Python 2.7.12: C:\\Users\\Caroline\\Anaconda2\\python.exe\n...........................................................................\nC:\\Users\\Caroline\\Anaconda2\\lib\\site-packages\\sklearn\\externals\\joblib\\parallel.py in __call__(self=<sklearn.externals.joblib.parallel.BatchedCalls object>)\n    126     def __init__(self, iterator_slice):\n    127         self.items = list(iterator_slice)\n    128         self._size = len(self.items)\n    129 \n    130     def __call__(self):\n--> 131         return [func(*args, **kwargs) for func, args, kwargs in self.items]\n        func = <function _fit_and_score>\n        args = (LogisticRegression(C=1e-06, class_weight=None, d...ol=0.0001,\n          verbose=0, warm_start=False),          NOPRIOR  NUMSUBS  AGE_15to 17  AGE_18 t...660111          0.0  \n\n[102490 rows x 42 columns], 539557     1\n1465128    1\n1091784    1\n1520858  ...881     0\n660111     1\nName: REASON, dtype: int64, <function _passthrough_scorer>, memmap([      2,       3,       4, ..., 1024892, 1024893, 1024895]), array([      0,       1,       6, ..., 1024889, 1024891, 1024894]), True, {'C': 1e-06, 'penalty': 'l1'}, {})\n        kwargs = {'error_score': 'raise', 'return_parameters': True}\n        self.items = [(<function _fit_and_score>, (LogisticRegression(C=1e-06, class_weight=None, d...ol=0.0001,\n          verbose=0, warm_start=False),          NOPRIOR  NUMSUBS  AGE_15to 17  AGE_18 t...660111          0.0  \n\n[102490 rows x 42 columns], 539557     1\n1465128    1\n1091784    1\n1520858  ...881     0\n660111     1\nName: REASON, dtype: int64, <function _passthrough_scorer>, memmap([      2,       3,       4, ..., 1024892, 1024893, 1024895]), array([      0,       1,       6, ..., 1024889, 1024891, 1024894]), True, {'C': 1e-06, 'penalty': 'l1'}, {}), {'error_score': 'raise', 'return_parameters': True})]\n    132 \n    133     def __len__(self):\n    134         return self._size\n    135 \n\n...........................................................................\nC:\\Users\\Caroline\\Anaconda2\\lib\\site-packages\\sklearn\\cross_validation.py in _fit_and_score(estimator=LogisticRegression(C=1e-06, class_weight=None, d...ol=0.0001,\n          verbose=0, warm_start=False), X=         NOPRIOR  NUMSUBS  AGE_15to 17  AGE_18 t...660111          0.0  \n\n[102490 rows x 42 columns], y=539557     1\n1465128    1\n1091784    1\n1520858  ...881     0\n660111     1\nName: REASON, dtype: int64, scorer=<function _passthrough_scorer>, train=memmap([      2,       3,       4, ..., 1024892, 1024893, 1024895]), test=array([      0,       1,       6, ..., 1024889, 1024891, 1024894]), verbose=True, parameters={'C': 1e-06, 'penalty': 'l1'}, fit_params={}, return_train_score=False, return_parameters=True, error_score='raise')\n   1653     if parameters is not None:\n   1654         estimator.set_params(**parameters)\n   1655 \n   1656     start_time = time.time()\n   1657 \n-> 1658     X_train, y_train = _safe_split(estimator, X, y, train)\n        X_train = undefined\n        y_train = undefined\n        estimator = LogisticRegression(C=1e-06, class_weight=None, d...ol=0.0001,\n          verbose=0, warm_start=False)\n        X =          NOPRIOR  NUMSUBS  AGE_15to 17  AGE_18 t...660111          0.0  \n\n[102490 rows x 42 columns]\n        y = 539557     1\n1465128    1\n1091784    1\n1520858  ...881     0\n660111     1\nName: REASON, dtype: int64\n        train = memmap([      2,       3,       4, ..., 1024892, 1024893, 1024895])\n   1659     X_test, y_test = _safe_split(estimator, X, y, test, train)\n   1660 \n   1661     try:\n   1662         if y_train is None:\n\n...........................................................................\nC:\\Users\\Caroline\\Anaconda2\\lib\\site-packages\\sklearn\\cross_validation.py in _safe_split(estimator=LogisticRegression(C=1e-06, class_weight=None, d...ol=0.0001,\n          verbose=0, warm_start=False), X=         NOPRIOR  NUMSUBS  AGE_15to 17  AGE_18 t...660111          0.0  \n\n[102490 rows x 42 columns], y=539557     1\n1465128    1\n1091784    1\n1520858  ...881     0\n660111     1\nName: REASON, dtype: int64, indices=memmap([      2,       3,       4, ..., 1024892, 1024893, 1024895]), train_indices=None)\n   1721             if train_indices is None:\n   1722                 X_subset = X[np.ix_(indices, indices)]\n   1723             else:\n   1724                 X_subset = X[np.ix_(indices, train_indices)]\n   1725         else:\n-> 1726             X_subset = safe_indexing(X, indices)\n        X_subset = undefined\n        X =          NOPRIOR  NUMSUBS  AGE_15to 17  AGE_18 t...660111          0.0  \n\n[102490 rows x 42 columns]\n        indices = memmap([      2,       3,       4, ..., 1024892, 1024893, 1024895])\n   1727 \n   1728     if y is not None:\n   1729         y_subset = safe_indexing(y, indices)\n   1730     else:\n\n...........................................................................\nC:\\Users\\Caroline\\Anaconda2\\lib\\site-packages\\sklearn\\utils\\__init__.py in safe_indexing(X=         NOPRIOR  NUMSUBS  AGE_15to 17  AGE_18 t...660111          0.0  \n\n[102490 rows x 42 columns], indices=memmap([      2,       3,       4, ..., 1024892, 1024893, 1024895]))\n     94         Indices according to which X will be subsampled.\n     95     \"\"\"\n     96     if hasattr(X, \"iloc\"):\n     97         # Pandas Dataframes and Series\n     98         try:\n---> 99             return X.iloc[indices]\n        X.iloc = <pandas.core.indexing._iLocIndexer object>\n        indices = memmap([      2,       3,       4, ..., 1024892, 1024893, 1024895])\n    100         except ValueError:\n    101             # Cython typed memoryviews internally used in pandas do not support\n    102             # readonly buffers.\n    103             warnings.warn(\"Copying input dataframe for slicing.\",\n\n...........................................................................\nC:\\Users\\Caroline\\Anaconda2\\lib\\site-packages\\pandas\\core\\indexing.py in __getitem__(self=<pandas.core.indexing._iLocIndexer object>, key=memmap([      2,       3,       4, ..., 1024892, 1024893, 1024895]))\n   1291             key = com._apply_if_callable(key, self.obj)\n   1292 \n   1293         if type(key) is tuple:\n   1294             return self._getitem_tuple(key)\n   1295         else:\n-> 1296             return self._getitem_axis(key, axis=0)\n        self._getitem_axis = <bound method _iLocIndexer._getitem_axis of <pandas.core.indexing._iLocIndexer object>>\n        key = memmap([      2,       3,       4, ..., 1024892, 1024893, 1024895])\n   1297 \n   1298     def _getitem_axis(self, key, axis=0):\n   1299         raise NotImplementedError()\n   1300 \n\n...........................................................................\nC:\\Users\\Caroline\\Anaconda2\\lib\\site-packages\\pandas\\core\\indexing.py in _getitem_axis(self=<pandas.core.indexing._iLocIndexer object>, key=memmap([      2,       3,       4, ..., 1024892, 1024893, 1024895]), axis=0)\n   1594         else:\n   1595 \n   1596             if is_list_like_indexer(key):\n   1597 \n   1598                 # validate list bounds\n-> 1599                 self._is_valid_list_like(key, axis)\n        self._is_valid_list_like = <bound method _iLocIndexer._is_valid_list_like of <pandas.core.indexing._iLocIndexer object>>\n        key = memmap([      2,       3,       4, ..., 1024892, 1024893, 1024895])\n        axis = 0\n   1600 \n   1601                 # force an actual list\n   1602                 key = list(key)\n   1603 \n\n...........................................................................\nC:\\Users\\Caroline\\Anaconda2\\lib\\site-packages\\pandas\\core\\indexing.py in _is_valid_list_like(self=<pandas.core.indexing._iLocIndexer object>, key=memmap([      2,       3,       4, ..., 1024892, 1024893, 1024895]), axis=0)\n   1533         # coerce the key to not exceed the maximum size of the index\n   1534         arr = np.array(key)\n   1535         ax = self.obj._get_axis(axis)\n   1536         l = len(ax)\n   1537         if len(arr) and (arr.max() >= l or arr.min() < -l):\n-> 1538             raise IndexError(\"positional indexers are out-of-bounds\")\n   1539 \n   1540         return True\n   1541 \n   1542     def _getitem_tuple(self, tup):\n\nIndexError: positional indexers are out-of-bounds\n___________________________________________________________________________"
     ]
    }
   ],
   "source": [
    "logr = linear_model.LogisticRegression()\n",
    "params = {\"C\": [0.000001, 0.001, 1, 100, 10000], \"penalty\": [\"l1\", \"l2\"]}\n",
    "\n",
    "from sklearn.grid_search import GridSearchCV\n",
    "logr_grid = GridSearchCV(logr, params, n_jobs =-1, verbose = False, cv=cv)\n",
    "df_sub = df_mapped1.sample(frac = 0.1)\n",
    "X_sub = df_sub.drop(['AGE', 'GENDER', 'EDUC', 'EMPLOY', 'LOS', 'LIVARAG', 'PSOURCE', 'SUB1', 'REASON'], axis = 1, inplace = False)\n",
    "y_sub = df_sub['REASON']\n",
    "logr_grid.fit(X_sub,y_sub)"
   ]
  },
  {
   "cell_type": "code",
   "execution_count": 31,
   "metadata": {
    "collapsed": false
   },
   "outputs": [
    {
     "data": {
      "text/plain": [
       "102490"
      ]
     },
     "execution_count": 31,
     "metadata": {},
     "output_type": "execute_result"
    }
   ],
   "source": []
  },
  {
   "cell_type": "code",
   "execution_count": null,
   "metadata": {
    "collapsed": false
   },
   "outputs": [],
   "source": [
    "print logr_grid.best_params_\n",
    "print logr_grid.best_score_"
   ]
  },
  {
   "cell_type": "code",
   "execution_count": null,
   "metadata": {
    "collapsed": true
   },
   "outputs": [],
   "source": []
  },
  {
   "cell_type": "code",
   "execution_count": 37,
   "metadata": {
    "collapsed": false,
    "scrolled": true
   },
   "outputs": [
    {
     "ename": "AttributeError",
     "evalue": "'LogisticRegression' object has no attribute 'params_'",
     "output_type": "error",
     "traceback": [
      "\u001b[1;31m\u001b[0m",
      "\u001b[1;31mAttributeError\u001b[0mTraceback (most recent call last)",
      "\u001b[1;32m<ipython-input-37-d3c1b4abd91c>\u001b[0m in \u001b[0;36m<module>\u001b[1;34m()\u001b[0m\n\u001b[1;32m----> 1\u001b[1;33m \u001b[1;32mprint\u001b[0m \u001b[0mlogr\u001b[0m\u001b[1;33m.\u001b[0m\u001b[0mparams_\u001b[0m\u001b[1;33m,\u001b[0m \u001b[0mlogr\u001b[0m\u001b[1;33m.\u001b[0m\u001b[0mcoef_\u001b[0m\u001b[1;33m\u001b[0m\u001b[0m\n\u001b[0m",
      "\u001b[1;31mAttributeError\u001b[0m: 'LogisticRegression' object has no attribute 'params_'"
     ]
    }
   ],
   "source": [
    "print logr.get_params, logr.coef_"
   ]
  },
  {
   "cell_type": "markdown",
   "metadata": {},
   "source": [
    "Use Recursive Feature Elimination to see if we can hone in on some attributes to rebuild a logr model"
   ]
  },
  {
   "cell_type": "code",
   "execution_count": null,
   "metadata": {
    "collapsed": true
   },
   "outputs": [],
   "source": [
    "from sklearn.feature_selection import RFE\n",
    "rfe = RFE(logr, 10)\n",
    "rfe = rfe.fit(X,y)\n",
    "print (rfe.support_)\n",
    "print(rfe.ranking_)"
   ]
  },
  {
   "cell_type": "code",
   "execution_count": 33,
   "metadata": {
    "collapsed": false
   },
   "outputs": [
    {
     "name": "stdout",
     "output_type": "stream",
     "text": [
      "0.609786748069 0.000391068126362\n"
     ]
    }
   ],
   "source": [
    "from sklearn.tree import DecisionTreeClassifier\n",
    "dt = DecisionTreeClassifier()\n",
    "X = df_mapped1.drop(['AGE', 'GENDER', 'EDUC', 'EMPLOY', 'LOS', 'LIVARAG', 'PSOURCE', 'SUB1', 'REASON'], axis = 1, inplace = False)\n",
    "y = df_mapped1['REASON']\n",
    "dt.fit(X,y)\n",
    "\n",
    "perf = cross_val_score(dt, X, y, cv=cv)\n",
    "print perf.mean(), perf.std()"
   ]
  },
  {
   "cell_type": "code",
   "execution_count": null,
   "metadata": {
    "collapsed": true
   },
   "outputs": [],
   "source": [
    "from sklearn.ensemble import RandomForestClassifier\n",
    "rf = RandomForestClassifier()\n",
    "rf.fit(X,y)\n",
    "print(model.feature_importances)"
   ]
  }
 ],
 "metadata": {
  "anaconda-cloud": {},
  "kernelspec": {
   "display_name": "Python [Root]",
   "language": "python",
   "name": "Python [Root]"
  },
  "language_info": {
   "codemirror_mode": {
    "name": "ipython",
    "version": 2
   },
   "file_extension": ".py",
   "mimetype": "text/x-python",
   "name": "python",
   "nbconvert_exporter": "python",
   "pygments_lexer": "ipython2",
   "version": "2.7.12"
  }
 },
 "nbformat": 4,
 "nbformat_minor": 0
}
