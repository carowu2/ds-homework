{
 "cells": [
  {
   "cell_type": "markdown",
   "metadata": {},
   "source": [
    "# Project 1\n",
    "\n",
    "In this first project you will create a framework to scope out data science projects. This framework will provide you with a guide to develop a well-articulated problem statement and analysis plan that will be robust and reproducible."
   ]
  },
  {
   "cell_type": "markdown",
   "metadata": {},
   "source": [
    "# Read and evaluate the following problem statement: \n",
    "Determine which free-tier customers will covert to paying customers, using demographic data collected at signup (age, gender, location, and profession) and customer usage data (days since last log in, and activity score 1 = active user, 0= inactive user) based on Hooli data from Jan-Apr 2015."
   ]
  },
  {
   "cell_type": "markdown",
   "metadata": {},
   "source": [
    "#### 1. What is the outcome?"
   ]
  },
  {
   "cell_type": "markdown",
   "metadata": {},
   "source": [
    "Answer: Whether the free-tier customer converted to a paying customer"
   ]
  },
  {
   "cell_type": "markdown",
   "metadata": {},
   "source": [
    "#### 2. What are the predictors/covariates? "
   ]
  },
  {
   "cell_type": "markdown",
   "metadata": {},
   "source": [
    "Answer: (At the customer's time of signup) - age, gender, location, and profession, days since last log in, and customer activity (1 = active user, 0 = inactive user)"
   ]
  },
  {
   "cell_type": "markdown",
   "metadata": {},
   "source": [
    "#### 3. What timeframe is this data relevant for?"
   ]
  },
  {
   "cell_type": "markdown",
   "metadata": {},
   "source": [
    "Answer: Jan 2015 to Apr 2015"
   ]
  },
  {
   "cell_type": "markdown",
   "metadata": {},
   "source": [
    "#### 4. What is the hypothesis?"
   ]
  },
  {
   "cell_type": "markdown",
   "metadata": {},
   "source": [
    "Answer: Active users were more likely to convert to paying customers than non-active users. "
   ]
  },
  {
   "cell_type": "markdown",
   "metadata": {},
   "source": [
    "## Let's get started with our dataset"
   ]
  },
  {
   "cell_type": "markdown",
   "metadata": {},
   "source": [
    "#### 1. Create a data dictionary "
   ]
  },
  {
   "cell_type": "markdown",
   "metadata": {},
   "source": [
    "Answer: \n",
    "\n",
    "Variable | Description | Type of Variable\n",
    "---| ---| ---\n",
    "admit | 0 = not admit; 1 = admit | categorical\n",
    "gre | GRE (Graduate Record Examination) Score on a scale of 0 - 800 | continuous \n",
    "gpa | Undergraduate GPA (Grade Point Average) on a scale of 0.0 - 4.0 | continous\n",
    "rank | Prestige of undergraduate institution; 1 = most prestigious, 4 = least prestigious | categorical\n"
   ]
  },
  {
   "cell_type": "markdown",
   "metadata": {},
   "source": [
    "We would like to explore the association between X and Y "
   ]
  },
  {
   "cell_type": "markdown",
   "metadata": {},
   "source": [
    "#### 2. What is the outcome?"
   ]
  },
  {
   "cell_type": "markdown",
   "metadata": {},
   "source": [
    "Answer: Admitted or not admitted to the graduate program (0 = not admit, 1 = admit)"
   ]
  },
  {
   "cell_type": "markdown",
   "metadata": {},
   "source": [
    "#### 3. What are the predictors/covariates? "
   ]
  },
  {
   "cell_type": "markdown",
   "metadata": {},
   "source": [
    "Answer: GPA, GRE, and Rank "
   ]
  },
  {
   "cell_type": "markdown",
   "metadata": {},
   "source": [
    "#### 4. What timeframe is this data relevant for?"
   ]
  },
  {
   "cell_type": "markdown",
   "metadata": {},
   "source": [
    "Answer: According to the UCLA website from which this is pulled, this is generated hypothetical data which does not explicitly state a time frame.\n",
    "\n",
    "However, if I were to assume, this is data collected from the same admissions year. There is no separate variable for 'year' which could be an significant factor in the overall analysis of the data."
   ]
  },
  {
   "cell_type": "markdown",
   "metadata": {},
   "source": [
    "#### 4. What is the hypothesis?"
   ]
  },
  {
   "cell_type": "markdown",
   "metadata": {},
   "source": [
    "Answer: Applicants with higher undergraduate GPA scores and higher GRE scores were more likely to be admitted to graduate programs compared to those with lower scores."
   ]
  },
  {
   "cell_type": "markdown",
   "metadata": {},
   "source": [
    "    Using the above information, write a well-formed problem statement. \n",
    "\n",
    "Determine which graduate school applicants will likely be accepted, using data on past admissions data from UCLA (1 = admit, 0 = non admit), the applicant's GRE score, undergraduate GPA, and the rank/prestige of his/her undergraduate institution.\n"
   ]
  },
  {
   "cell_type": "markdown",
   "metadata": {},
   "source": [
    "## Problem Statement"
   ]
  },
  {
   "cell_type": "markdown",
   "metadata": {},
   "source": [
    "### Exploratory Analysis Plan"
   ]
  },
  {
   "cell_type": "markdown",
   "metadata": {},
   "source": [
    "Using the lab from a class as a guide, create an exploratory analysis plan. "
   ]
  },
  {
   "cell_type": "markdown",
   "metadata": {},
   "source": [
    "#### 1. What are the goals of the exploratory analysis? "
   ]
  },
  {
   "cell_type": "markdown",
   "metadata": {
    "collapsed": true
   },
   "source": [
    "Answer: Exploratory analysis is a critical stepping stone to determining how to best fit the data and extract the most important conclusions from it. It requires understanding the assumptions behind the data for when conclusions are presented, and understanding data points that support and contradict the conclusion. By putting a guided framework around how to interpret the data through distributions and summary statistics, it will help the analyser formulate a stronger test/hypothesis."
   ]
  },
  {
   "cell_type": "markdown",
   "metadata": {},
   "source": [
    "#### 2a. What are the assumptions of the distribution of data? "
   ]
  },
  {
   "cell_type": "markdown",
   "metadata": {},
   "source": [
    "Answer: \n",
    "\n",
    "Admit is a binary variable, and therefore not as much can be said about the distribution. However I would assume there are a greater number of 'non-admits' than 'admits' given the competitiveness of graduate programs. Typically the spots for graduate students are highly sought after and as a result more applicants will be denied admittance than granted.\n",
    "\n",
    "For the GRE and GPA scores (covariates), the distributions would likely be negatively skewed. Despite the dataset containing both 'admits' and 'non-admits', the data is still biased towards those with higher GRE and GPA scores relative to the entire population of GRE and GPA scores. Those with higher scores would be more inclined to apply to a graduate program assuming a greater chance of admittance, and those with lower scores are likely excluded from this dataset as they did not choose to apply. Assuming they are negatively skewed, the medians will be greater than the means of both variables. As GRE scores have a wider range, the standard deviation / dispersion of the data will be higher than that of GPA (and any of the other variables). Additionally, GRE and GPA scores are likely to be positively correlated to each other as those who typically scored better in undergraduate class would score better on the [GRE] test.\n",
    "\n",
    "Although rank is a categorical variable, it is factorable and we can make some assumptions about the distribution. Similar to the assumption for GRE and GPA scores, the applicants would likely come from school of higher prestige (lower rank, and therefore positively skewed). Similarly there may be a negative correlation between rank and GRE and rank and GPA. "
   ]
  },
  {
   "cell_type": "markdown",
   "metadata": {},
   "source": [
    "#### 2b. How will [you] determine the distribution of your data? "
   ]
  },
  {
   "cell_type": "markdown",
   "metadata": {
    "collapsed": true
   },
   "source": [
    "Answer: I would plot a histogram of the variables in the dataset for a visual depiction of their distributions. Additionally I would run some summary statistics to describe the variables' means/medians and dispersion factors. Other moments such as skewness and kurtosis are also useful in shaping the distribution of the data."
   ]
  },
  {
   "cell_type": "markdown",
   "metadata": {},
   "source": [
    "#### 3a. How might outliers impact your analysis? "
   ]
  },
  {
   "cell_type": "markdown",
   "metadata": {
    "collapsed": true
   },
   "source": [
    "Answer: Outliers can significantly skew the real range of the data. They can also impact the mean, on which certain dispersion metrics are based and measured relative to. They may also weaken or dilute the significance of certain variables or the best-fit line when modeling the data. "
   ]
  },
  {
   "cell_type": "markdown",
   "metadata": {},
   "source": [
    "#### 3b. How will you test for outliers? "
   ]
  },
  {
   "cell_type": "markdown",
   "metadata": {},
   "source": [
    "Answer: Outliers can be identified in a number of ways, including but not limited to:\n",
    "\n",
    "- Plotting the data and visually identifying outliers\n",
    "- Distribution charts such as box-and-whisker plot or finding values outside the interquartile range\n",
    "- Test the kurtosis of the distribution and see how fat the tails are, gaining a general idea of how many outliers there are\n",
    "- Find the standard deviation of the data and see which data points are +/- 3 sd's from the mean (or which ever tolerance one chooses)\n"
   ]
  },
  {
   "cell_type": "markdown",
   "metadata": {},
   "source": [
    "#### 4. What is your exploratory analysis plan?\n",
    "Using the above information, write an exploratory analysis plan that would allow you or a colleague to reproduce your analysis 1 year from now. "
   ]
  },
  {
   "cell_type": "markdown",
   "metadata": {},
   "source": [
    "Answer: Collect the data of 400 applicants to UCLA's graduate school programs, including his/her GRE scores, undergraduate GPA, and the rank/prestige of his/her undergraduate institution. There may be a separate table mapping the undergraduate institution to its respective rank/prestige for the purpose of this data analysis. The time frame of the data, as well as the scope of data collected should be documented. Once collected, we can make assumptions about what we anticipate to be the distributions of the variables. After seeing the distributions both graphically and through summary statistics (mean, median, mode, sd, var, range, etc.), we will be able to identify any outliers and/or missing data that may be biasing our analysis. Correlations both positive and negative should also be explored between each variable. We should also note any data points that contradict our assumptions as these could be disposable or important outliers. Once the data has been reviewed, we can run a regression to test for the significance of each variable in determining the outcome (admit).\n",
    "\n",
    " "
   ]
  },
  {
   "cell_type": "markdown",
   "metadata": {},
   "source": [
    "## Bonus Questions:\n",
    "1. Outline your analysis method for predicting your outcome\n",
    "2. Write an alternative problem statement for your dataset\n",
    "3. Articulate the assumptions and risks of the alternative model"
   ]
  },
  {
   "cell_type": "markdown",
   "metadata": {
    "collapsed": true
   },
   "source": [
    "1. After identifying and removing outliers as appropriate, I would plot and see the distribution of my data, taking note where it defers from my initial assumptions. Running summary statistics on its central points and dispersion will also be useful to put a framework on the quantitative analysis. Predictors such as GRE and GPA mentioned above may be positively correlated and impact the outcome of the test. To determine the significance of each variable, a multiple regression could be run and evaluated to see which are significant to the outcome (admit). Additionally the sign/coefficient of the variables will be useful to determine if higher GRE and GPA scores do increase the chance of admittance and to what magnitude.\n",
    "\n",
    "2. Alternative problem statement: Determine if an undergraduate institution's rank are determined by factors such as its students GRE scores, GPAs, and admittance to a graduate program. For example, if rank 1 institutions have a range of GRE scores, GPAs, % of acceptances, for which it is typically bucketed in rank 1.\n",
    "\n",
    "3. It is possible 'rank' is determined based on the previous admittance rates to a graduate program, and we are exploring this. The population of data will only be for a specific school's graduate programs. Acceptances elsewhere may present a different model as different schools have different requirements and criteria for accepting a candidate. The conclusion will likely pertain to this sample and not the greater population. We would also assume that we have no knowledge of the rank criteria for undergraduate institution, and as such are exploring if there could be, given this data set. The distributions of the variables would not change, however given the rank is now the outcome we need to consider correlations between GRE, GPA, and admit. If GRE and GPA are significant in determining admit (as in the above initial problem statement), there could be strong correlations between all three variables. "
   ]
  }
 ],
 "metadata": {
  "anaconda-cloud": {},
  "kernelspec": {
   "display_name": "Python [Root]",
   "language": "python",
   "name": "Python [Root]"
  },
  "language_info": {
   "codemirror_mode": {
    "name": "ipython",
    "version": 2
   },
   "file_extension": ".py",
   "mimetype": "text/x-python",
   "name": "python",
   "nbconvert_exporter": "python",
   "pygments_lexer": "ipython2",
   "version": "2.7.12"
  }
 },
 "nbformat": 4,
 "nbformat_minor": 0
}
