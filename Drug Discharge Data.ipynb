{
 "cells": [
  {
   "cell_type": "markdown",
   "metadata": {},
   "source": [
    "# Explanatory Analysis"
   ]
  },
  {
   "cell_type": "markdown",
   "metadata": {},
   "source": [
    "We are using 2011 nationwide data of patients discharged from drug treatment programs (either through completion of the program or by dropping out). The goal is to analyse some of the attributes of the patient or their circumstances to see if they may have osme impact on the outcome of whether the patient completes treatment or drops out against professional advice."
   ]
  },
  {
   "cell_type": "code",
   "execution_count": 1,
   "metadata": {
    "collapsed": true
   },
   "outputs": [],
   "source": [
    "import pandas as pd\n",
    "import numpy as np\n",
    "import seaborn as sns\n",
    "%matplotlib inline\n",
    "import matplotlib.pyplot as plt"
   ]
  },
  {
   "cell_type": "code",
   "execution_count": 2,
   "metadata": {
    "collapsed": false
   },
   "outputs": [],
   "source": [
    "df_raw = pd.read_table('Discharge_Data.tsv')"
   ]
  },
  {
   "cell_type": "code",
   "execution_count": 3,
   "metadata": {
    "collapsed": false
   },
   "outputs": [],
   "source": [
    "# subset data for our analysis to only rows where REASON for discharge was either-\n",
    "# 1: Treatment Completed or \n",
    "# 2: Left Against Professional Advice\n",
    "\n",
    "df = df_raw.loc[df_raw['REASON'].isin([1,2])]"
   ]
  },
  {
   "cell_type": "code",
   "execution_count": 4,
   "metadata": {
    "collapsed": false,
    "scrolled": true
   },
   "outputs": [
    {
     "data": {
      "text/html": [
       "<div>\n",
       "<table border=\"1\" class=\"dataframe\">\n",
       "  <thead>\n",
       "    <tr style=\"text-align: right;\">\n",
       "      <th></th>\n",
       "      <th>CASEID</th>\n",
       "      <th>DISYR</th>\n",
       "      <th>AGE</th>\n",
       "      <th>GENDER</th>\n",
       "      <th>RACE</th>\n",
       "      <th>ETHNIC</th>\n",
       "      <th>MARSTAT</th>\n",
       "      <th>EDUC</th>\n",
       "      <th>EMPLOY</th>\n",
       "      <th>DETNLF</th>\n",
       "      <th>...</th>\n",
       "      <th>BARBFLG</th>\n",
       "      <th>SEDHPFLG</th>\n",
       "      <th>INHFLG</th>\n",
       "      <th>OTCFLG</th>\n",
       "      <th>OTHERFLG</th>\n",
       "      <th>ALCDRUG</th>\n",
       "      <th>DSMCRIT</th>\n",
       "      <th>PSYPROB</th>\n",
       "      <th>HLTHINS</th>\n",
       "      <th>PRIMPAY</th>\n",
       "    </tr>\n",
       "  </thead>\n",
       "  <tbody>\n",
       "    <tr>\n",
       "      <th>2</th>\n",
       "      <td>3</td>\n",
       "      <td>2011</td>\n",
       "      <td>11</td>\n",
       "      <td>1</td>\n",
       "      <td>5</td>\n",
       "      <td>5</td>\n",
       "      <td>3</td>\n",
       "      <td>4</td>\n",
       "      <td>4</td>\n",
       "      <td>3</td>\n",
       "      <td>...</td>\n",
       "      <td>0</td>\n",
       "      <td>0</td>\n",
       "      <td>0</td>\n",
       "      <td>0</td>\n",
       "      <td>0</td>\n",
       "      <td>3</td>\n",
       "      <td>13</td>\n",
       "      <td>2</td>\n",
       "      <td>-9</td>\n",
       "      <td>9</td>\n",
       "    </tr>\n",
       "    <tr>\n",
       "      <th>3</th>\n",
       "      <td>4</td>\n",
       "      <td>2011</td>\n",
       "      <td>6</td>\n",
       "      <td>2</td>\n",
       "      <td>5</td>\n",
       "      <td>5</td>\n",
       "      <td>3</td>\n",
       "      <td>4</td>\n",
       "      <td>3</td>\n",
       "      <td>-9</td>\n",
       "      <td>...</td>\n",
       "      <td>0</td>\n",
       "      <td>0</td>\n",
       "      <td>0</td>\n",
       "      <td>0</td>\n",
       "      <td>0</td>\n",
       "      <td>2</td>\n",
       "      <td>-9</td>\n",
       "      <td>1</td>\n",
       "      <td>4</td>\n",
       "      <td>5</td>\n",
       "    </tr>\n",
       "    <tr>\n",
       "      <th>4</th>\n",
       "      <td>5</td>\n",
       "      <td>2011</td>\n",
       "      <td>9</td>\n",
       "      <td>2</td>\n",
       "      <td>5</td>\n",
       "      <td>5</td>\n",
       "      <td>4</td>\n",
       "      <td>3</td>\n",
       "      <td>1</td>\n",
       "      <td>-9</td>\n",
       "      <td>...</td>\n",
       "      <td>0</td>\n",
       "      <td>0</td>\n",
       "      <td>0</td>\n",
       "      <td>0</td>\n",
       "      <td>0</td>\n",
       "      <td>1</td>\n",
       "      <td>9</td>\n",
       "      <td>1</td>\n",
       "      <td>4</td>\n",
       "      <td>5</td>\n",
       "    </tr>\n",
       "    <tr>\n",
       "      <th>5</th>\n",
       "      <td>6</td>\n",
       "      <td>2011</td>\n",
       "      <td>5</td>\n",
       "      <td>1</td>\n",
       "      <td>4</td>\n",
       "      <td>5</td>\n",
       "      <td>1</td>\n",
       "      <td>4</td>\n",
       "      <td>4</td>\n",
       "      <td>6</td>\n",
       "      <td>...</td>\n",
       "      <td>0</td>\n",
       "      <td>0</td>\n",
       "      <td>0</td>\n",
       "      <td>0</td>\n",
       "      <td>0</td>\n",
       "      <td>2</td>\n",
       "      <td>-9</td>\n",
       "      <td>2</td>\n",
       "      <td>4</td>\n",
       "      <td>8</td>\n",
       "    </tr>\n",
       "    <tr>\n",
       "      <th>6</th>\n",
       "      <td>7</td>\n",
       "      <td>2011</td>\n",
       "      <td>6</td>\n",
       "      <td>1</td>\n",
       "      <td>5</td>\n",
       "      <td>5</td>\n",
       "      <td>1</td>\n",
       "      <td>3</td>\n",
       "      <td>2</td>\n",
       "      <td>-9</td>\n",
       "      <td>...</td>\n",
       "      <td>0</td>\n",
       "      <td>0</td>\n",
       "      <td>0</td>\n",
       "      <td>0</td>\n",
       "      <td>0</td>\n",
       "      <td>2</td>\n",
       "      <td>7</td>\n",
       "      <td>2</td>\n",
       "      <td>-9</td>\n",
       "      <td>1</td>\n",
       "    </tr>\n",
       "  </tbody>\n",
       "</table>\n",
       "<p>5 rows × 65 columns</p>\n",
       "</div>"
      ],
      "text/plain": [
       "   CASEID  DISYR  AGE  GENDER  RACE  ETHNIC  MARSTAT  EDUC  EMPLOY  DETNLF  \\\n",
       "2       3   2011   11       1     5       5        3     4       4       3   \n",
       "3       4   2011    6       2     5       5        3     4       3      -9   \n",
       "4       5   2011    9       2     5       5        4     3       1      -9   \n",
       "5       6   2011    5       1     4       5        1     4       4       6   \n",
       "6       7   2011    6       1     5       5        1     3       2      -9   \n",
       "\n",
       "    ...     BARBFLG  SEDHPFLG  INHFLG  OTCFLG  OTHERFLG  ALCDRUG  DSMCRIT  \\\n",
       "2   ...           0         0       0       0         0        3       13   \n",
       "3   ...           0         0       0       0         0        2       -9   \n",
       "4   ...           0         0       0       0         0        1        9   \n",
       "5   ...           0         0       0       0         0        2       -9   \n",
       "6   ...           0         0       0       0         0        2        7   \n",
       "\n",
       "   PSYPROB  HLTHINS  PRIMPAY  \n",
       "2        2       -9        9  \n",
       "3        1        4        5  \n",
       "4        1        4        5  \n",
       "5        2        4        8  \n",
       "6        2       -9        1  \n",
       "\n",
       "[5 rows x 65 columns]"
      ]
     },
     "execution_count": 4,
     "metadata": {},
     "output_type": "execute_result"
    }
   ],
   "source": [
    "df.head()\n",
    "# since all the data points are integers, we need to map them to their values"
   ]
  },
  {
   "cell_type": "code",
   "execution_count": 22,
   "metadata": {
    "collapsed": false
   },
   "outputs": [],
   "source": [
    "# Since -9 represents NA/mising values in the dataset, map to NaN for easier reading and computation with pandas/numpy\n",
    "df = df.replace(-9, np.nan)"
   ]
  },
  {
   "cell_type": "code",
   "execution_count": 6,
   "metadata": {
    "collapsed": false,
    "scrolled": true
   },
   "outputs": [
    {
     "data": {
      "text/plain": [
       "CASEID      1207724\n",
       "HALLFLG     1207724\n",
       "REASON      1207724\n",
       "DIVISION    1207724\n",
       "REGION      1207724\n",
       "STFIPS      1207724\n",
       "NUMSUBS     1207724\n",
       "IDU         1207724\n",
       "ALCFLG      1207724\n",
       "COKEFLG     1207724\n",
       "MARFLG      1207724\n",
       "HERFLG      1207724\n",
       "METHFLG     1207724\n",
       "OPSYNFLG    1207724\n",
       "PCPFLG      1207724\n",
       "MTHAMFLG    1207724\n",
       "SEDHPFLG    1207724\n",
       "DISYR       1207724\n",
       "AGE         1207724\n",
       "ALCDRUG     1207724\n",
       "OTHERFLG    1207724\n",
       "OTCFLG      1207724\n",
       "INHFLG      1207724\n",
       "BARBFLG     1207724\n",
       "TRNQFLG     1207724\n",
       "BENZFLG     1207724\n",
       "STIMFLG     1207724\n",
       "AMPHFLG     1207724\n",
       "LOS         1207723\n",
       "GENDER      1207505\n",
       "             ...   \n",
       "ROUTE1      1194367\n",
       "FREQ1       1191045\n",
       "PSOURCE     1188851\n",
       "LIVARAG     1184409\n",
       "FRSTUSE1    1181339\n",
       "EDUC        1180332\n",
       "EMPLOY      1180140\n",
       "METHUSE     1169860\n",
       "ARRESTS     1100664\n",
       "NOPRIOR     1084846\n",
       "VET         1062131\n",
       "SUB3        1056599\n",
       "MARSTAT      936837\n",
       "CBSA         911266\n",
       "PMSA         911266\n",
       "PSYPROB      873931\n",
       "PRIMINC      788493\n",
       "ROUTE2       664455\n",
       "FRSTUSE2     661637\n",
       "FREQ2        661183\n",
       "DAYWAIT      608545\n",
       "HLTHINS      518609\n",
       "DSMCRIT      444950\n",
       "DETNLF       405432\n",
       "PRIMPAY      361966\n",
       "PREG         360380\n",
       "DETCRIM      297338\n",
       "FRSTUSE3     263925\n",
       "FREQ3        258716\n",
       "ROUTE3       255782\n",
       "dtype: int64"
      ]
     },
     "execution_count": 6,
     "metadata": {},
     "output_type": "execute_result"
    }
   ],
   "source": [
    "# see which variables have the least missing values, to help narrow down the scope of usable attributes in the model\n",
    "df.count().sort_values(ascending = False)\n",
    "# most do not have missing values, or have an insignificant amount. "
   ]
  },
  {
   "cell_type": "markdown",
   "metadata": {},
   "source": [
    "Create a dictionary for some of the variables to use:\n",
    "\n",
    "Variable | Description | Type of Variable\n",
    "---| ---| ---\n",
    "AGE | Age (ranges), from 11 and under to 55+ | categorical\n",
    "GENDER | 1 = Male, 2 = Female | categorical\n",
    "EDUC | Years of Education (ranges), from 8 and less to 16+ | categorical\n",
    "EMPLOY | Employment Status: FT, PT, Unemployed, Not in Labour Force | categorical\n",
    "LIVARAG | Living Arrangement: Homeless, Independent, Dependent | categorical\n",
    "LOS | Length of Stay, # of days til 30 (after 30, ranges: 31 = 31-45 days, 32 = 46=60 days, etc.) | continuous/categorical \n",
    "PSOURCE | Primary Source of Referral | categorical\n",
    "NOPRIOR | # of Prior Treatment Episodes | continuous\n",
    "NUMSUBS | Number of Substances | continous\n",
    "SUB1 | Primary Substance of Abuse | categorical\n",
    "REASON | 1 = Treatment Completed , 2 = Dropped Out | categorical"
   ]
  },
  {
   "cell_type": "code",
   "execution_count": 23,
   "metadata": {
    "collapsed": true
   },
   "outputs": [],
   "source": [
    "# select variables\n",
    "df = df[['AGE', 'GENDER', 'EDUC', 'EMPLOY', 'LIVARAG', 'LOS', 'PSOURCE', 'NOPRIOR', 'NUMSUBS', 'SUB1', 'REASON']].dropna()\n",
    "\n",
    "# created version with mapped variables for easier comprehension, use unmapped version for charting ordinal variables\n",
    "df_mapped = df.copy()"
   ]
  },
  {
   "cell_type": "code",
   "execution_count": 8,
   "metadata": {
    "collapsed": false,
    "scrolled": true
   },
   "outputs": [
    {
     "data": {
      "image/png": "[encoded data removed]",
      "text/plain": [
       "<matplotlib.figure.Figure at 0xae9fd30>"
      ]
     },
     "metadata": {},
     "output_type": "display_data"
    }
   ],
   "source": [
    "# take a quick look at distributions of chosen variables - note despite all being categorical some are ordinal such as\n",
    "# AGE, EDUC, LOS (Length of Stay), NOPRIOR (Number of Prior Treatments), NUMSUBS (Number of Substances)\n",
    "df.hist();"
   ]
  },
  {
   "cell_type": "code",
   "execution_count": 9,
   "metadata": {
    "collapsed": false
   },
   "outputs": [
    {
     "data": {
      "image/png": "[encoded data removed]",
      "text/plain": [
       "<matplotlib.figure.Figure at 0x3e031780>"
      ]
     },
     "metadata": {},
     "output_type": "display_data"
    }
   ],
   "source": [
    "# to examine AGE more closely (1 = Completed Treatment, 2 = Dropped Out)\n",
    "df['AGE'].hist(by = df['REASON']);\n",
    "plt.xticks([2, 3, 4, 5, 6, 7, 8, 9, 10, 11, 12], \n",
    "           ['12-14', '15-17', '18-20', '21-24', '25-29', '30-34', '35-39', '40-44', '45-49', '50-54', '55+']);"
   ]
  },
  {
   "cell_type": "markdown",
   "metadata": {},
   "source": [
    "At first glance the distribution actually looks pretty similar for each age group, with the exception of the older patients (especially in the 55+), which had significantly more completed treatments. We can also look to a table to confirm:"
   ]
  },
  {
   "cell_type": "code",
   "execution_count": 10,
   "metadata": {
    "collapsed": true
   },
   "outputs": [],
   "source": [
    "# mapping age ranges\n",
    "AGE_Map = {1: '11 and Under',\n",
    "           2: '12 to 14',\n",
    "           3: '15 to 17',\n",
    "           4: '18 to 20',\n",
    "           5: '21 to 23',\n",
    "           6: '25 to 29',\n",
    "           7: '30 to 34',\n",
    "           8: '35 to 39',\n",
    "           9: '40 to 44',\n",
    "           10: '45 to 49',\n",
    "           11: '50 to 54',\n",
    "           12: '55+'}\n",
    "\n",
    "df_mapped['AGE'].replace(AGE_Map, inplace = True)"
   ]
  },
  {
   "cell_type": "code",
   "execution_count": 11,
   "metadata": {
    "collapsed": false
   },
   "outputs": [
    {
     "data": {
      "text/html": [
       "<div>\n",
       "<table border=\"1\" class=\"dataframe\">\n",
       "  <thead>\n",
       "    <tr style=\"text-align: right;\">\n",
       "      <th>REASON</th>\n",
       "      <th>1</th>\n",
       "      <th>2</th>\n",
       "    </tr>\n",
       "    <tr>\n",
       "      <th>AGE</th>\n",
       "      <th></th>\n",
       "      <th></th>\n",
       "    </tr>\n",
       "  </thead>\n",
       "  <tbody>\n",
       "    <tr>\n",
       "      <th>12 to 14</th>\n",
       "      <td>0.576852</td>\n",
       "      <td>0.423148</td>\n",
       "    </tr>\n",
       "    <tr>\n",
       "      <th>15 to 17</th>\n",
       "      <td>0.585739</td>\n",
       "      <td>0.414261</td>\n",
       "    </tr>\n",
       "    <tr>\n",
       "      <th>18 to 20</th>\n",
       "      <td>0.556035</td>\n",
       "      <td>0.443965</td>\n",
       "    </tr>\n",
       "    <tr>\n",
       "      <th>21 to 23</th>\n",
       "      <td>0.585274</td>\n",
       "      <td>0.414726</td>\n",
       "    </tr>\n",
       "    <tr>\n",
       "      <th>25 to 29</th>\n",
       "      <td>0.592792</td>\n",
       "      <td>0.407208</td>\n",
       "    </tr>\n",
       "    <tr>\n",
       "      <th>30 to 34</th>\n",
       "      <td>0.596054</td>\n",
       "      <td>0.403946</td>\n",
       "    </tr>\n",
       "    <tr>\n",
       "      <th>35 to 39</th>\n",
       "      <td>0.607492</td>\n",
       "      <td>0.392508</td>\n",
       "    </tr>\n",
       "    <tr>\n",
       "      <th>40 to 44</th>\n",
       "      <td>0.618199</td>\n",
       "      <td>0.381801</td>\n",
       "    </tr>\n",
       "    <tr>\n",
       "      <th>45 to 49</th>\n",
       "      <td>0.637033</td>\n",
       "      <td>0.362967</td>\n",
       "    </tr>\n",
       "    <tr>\n",
       "      <th>50 to 54</th>\n",
       "      <td>0.658557</td>\n",
       "      <td>0.341443</td>\n",
       "    </tr>\n",
       "    <tr>\n",
       "      <th>55+</th>\n",
       "      <td>0.681696</td>\n",
       "      <td>0.318304</td>\n",
       "    </tr>\n",
       "    <tr>\n",
       "      <th>All</th>\n",
       "      <td>0.608772</td>\n",
       "      <td>0.391228</td>\n",
       "    </tr>\n",
       "  </tbody>\n",
       "</table>\n",
       "</div>"
      ],
      "text/plain": [
       "REASON           1         2\n",
       "AGE                         \n",
       "12 to 14  0.576852  0.423148\n",
       "15 to 17  0.585739  0.414261\n",
       "18 to 20  0.556035  0.443965\n",
       "21 to 23  0.585274  0.414726\n",
       "25 to 29  0.592792  0.407208\n",
       "30 to 34  0.596054  0.403946\n",
       "35 to 39  0.607492  0.392508\n",
       "40 to 44  0.618199  0.381801\n",
       "45 to 49  0.637033  0.362967\n",
       "50 to 54  0.658557  0.341443\n",
       "55+       0.681696  0.318304\n",
       "All       0.608772  0.391228"
      ]
     },
     "execution_count": 11,
     "metadata": {},
     "output_type": "execute_result"
    }
   ],
   "source": [
    "pd.crosstab(index = df_mapped['AGE'], columns = df_mapped['REASON'], normalize = 'index', margins = True)"
   ]
  },
  {
   "cell_type": "markdown",
   "metadata": {},
   "source": [
    "It looks like there is a downward trend in those dropping out of the program as the age range increases, so it could age could be an indicative variable in our model. We can further analyse this in conjunction with gender:"
   ]
  },
  {
   "cell_type": "code",
   "execution_count": 13,
   "metadata": {
    "collapsed": false
   },
   "outputs": [
    {
     "data": {
      "image/png": "[encoded data removed]",
      "text/plain": [
       "<matplotlib.figure.Figure at 0xe69d358>"
      ]
     },
     "metadata": {},
     "output_type": "display_data"
    }
   ],
   "source": [
    "# Reason = 1: Completed Treatment, Reason = 2: Dropped Out\n",
    "# Gender = 1: Male, Gender = 2: Female\n",
    "g = sns.FacetGrid(df, row = 'GENDER', col = 'REASON', margin_titles = True)\n",
    "g.map(plt.hist, 'AGE');"
   ]
  },
  {
   "cell_type": "markdown",
   "metadata": {
    "collapsed": true
   },
   "source": [
    "The majority of those who finish treatment are men older than 55+. Once again it looks like the distributions seem similar at first glance."
   ]
  },
  {
   "cell_type": "markdown",
   "metadata": {},
   "source": [
    "# MAPPING REST OF VARIABLES"
   ]
  },
  {
   "cell_type": "code",
   "execution_count": 24,
   "metadata": {
    "collapsed": false
   },
   "outputs": [],
   "source": [
    "# mapping age ranges\n",
    "AGE_Map = {1: '11 and Under',\n",
    "           2: '12 to 14',\n",
    "           3: '15 to 17',\n",
    "           4: '18 to 20',\n",
    "           5: '21 to 23',\n",
    "           6: '25 to 29',\n",
    "           7: '30 to 34',\n",
    "           8: '35 to 39',\n",
    "           9: '40 to 44',\n",
    "           10: '45 to 49',\n",
    "           11: '50 to 54',\n",
    "           12: '55+'}\n",
    "\n",
    "df_mapped['AGE'].replace(AGE_Map, inplace = True)"
   ]
  },
  {
   "cell_type": "code",
   "execution_count": 25,
   "metadata": {
    "collapsed": true
   },
   "outputs": [],
   "source": [
    "# mapping gender\n",
    "GENDER_Map = {1: 'Male',\n",
    "              2: 'Female'}\n",
    "df_mapped['GENDER'].replace(GENDER_Map, inplace = True)"
   ]
  },
  {
   "cell_type": "code",
   "execution_count": 26,
   "metadata": {
    "collapsed": false
   },
   "outputs": [
    {
     "data": {
      "text/html": [
       "<div>\n",
       "<table border=\"1\" class=\"dataframe\">\n",
       "  <thead>\n",
       "    <tr style=\"text-align: right;\">\n",
       "      <th>REASON</th>\n",
       "      <th>1</th>\n",
       "      <th>2</th>\n",
       "    </tr>\n",
       "    <tr>\n",
       "      <th>GENDER</th>\n",
       "      <th></th>\n",
       "      <th></th>\n",
       "    </tr>\n",
       "  </thead>\n",
       "  <tbody>\n",
       "    <tr>\n",
       "      <th>Female</th>\n",
       "      <td>0.576324</td>\n",
       "      <td>0.423676</td>\n",
       "    </tr>\n",
       "    <tr>\n",
       "      <th>Male</th>\n",
       "      <td>0.624702</td>\n",
       "      <td>0.375298</td>\n",
       "    </tr>\n",
       "    <tr>\n",
       "      <th>All</th>\n",
       "      <td>0.608772</td>\n",
       "      <td>0.391228</td>\n",
       "    </tr>\n",
       "  </tbody>\n",
       "</table>\n",
       "</div>"
      ],
      "text/plain": [
       "REASON         1         2\n",
       "GENDER                    \n",
       "Female  0.576324  0.423676\n",
       "Male    0.624702  0.375298\n",
       "All     0.608772  0.391228"
      ]
     },
     "execution_count": 26,
     "metadata": {},
     "output_type": "execute_result"
    }
   ],
   "source": [
    "pd.crosstab(index = df_mapped['GENDER'], columns = df_mapped['REASON'], normalize = 'index', margins = True)"
   ]
  },
  {
   "cell_type": "markdown",
   "metadata": {},
   "source": [
    "Of the genders, females were less likely to complete treatment."
   ]
  },
  {
   "cell_type": "code",
   "execution_count": 27,
   "metadata": {
    "collapsed": false
   },
   "outputs": [],
   "source": [
    "# mapping education\n",
    "EDUC_Map = {1: '8 Years or Less',\n",
    "            2: '9 to 11',\n",
    "            3: '12',\n",
    "            4: '13 to 15',\n",
    "            5: '16 or More'}\n",
    "df_mapped['EDUC'].replace(EDUC_Map, inplace = True)"
   ]
  },
  {
   "cell_type": "code",
   "execution_count": 28,
   "metadata": {
    "collapsed": false
   },
   "outputs": [
    {
     "data": {
      "text/html": [
       "<div>\n",
       "<table border=\"1\" class=\"dataframe\">\n",
       "  <thead>\n",
       "    <tr style=\"text-align: right;\">\n",
       "      <th>REASON</th>\n",
       "      <th>1</th>\n",
       "      <th>2</th>\n",
       "    </tr>\n",
       "    <tr>\n",
       "      <th>EDUC</th>\n",
       "      <th></th>\n",
       "      <th></th>\n",
       "    </tr>\n",
       "  </thead>\n",
       "  <tbody>\n",
       "    <tr>\n",
       "      <th>12</th>\n",
       "      <td>0.621556</td>\n",
       "      <td>0.378444</td>\n",
       "    </tr>\n",
       "    <tr>\n",
       "      <th>13 to 15</th>\n",
       "      <td>0.645228</td>\n",
       "      <td>0.354772</td>\n",
       "    </tr>\n",
       "    <tr>\n",
       "      <th>16 or More</th>\n",
       "      <td>0.708716</td>\n",
       "      <td>0.291284</td>\n",
       "    </tr>\n",
       "    <tr>\n",
       "      <th>8 Years or Less</th>\n",
       "      <td>0.576985</td>\n",
       "      <td>0.423015</td>\n",
       "    </tr>\n",
       "    <tr>\n",
       "      <th>9 to 11</th>\n",
       "      <td>0.552780</td>\n",
       "      <td>0.447220</td>\n",
       "    </tr>\n",
       "    <tr>\n",
       "      <th>All</th>\n",
       "      <td>0.608772</td>\n",
       "      <td>0.391228</td>\n",
       "    </tr>\n",
       "  </tbody>\n",
       "</table>\n",
       "</div>"
      ],
      "text/plain": [
       "REASON                  1         2\n",
       "EDUC                               \n",
       "12               0.621556  0.378444\n",
       "13 to 15         0.645228  0.354772\n",
       "16 or More       0.708716  0.291284\n",
       "8 Years or Less  0.576985  0.423015\n",
       "9 to 11          0.552780  0.447220\n",
       "All              0.608772  0.391228"
      ]
     },
     "execution_count": 28,
     "metadata": {},
     "output_type": "execute_result"
    }
   ],
   "source": [
    "pd.crosstab(index = df_mapped['EDUC'], columns = df_mapped['REASON'], normalize = 'index', margins = True)"
   ]
  },
  {
   "cell_type": "markdown",
   "metadata": {},
   "source": [
    "As expected those with more years of education were more likely to complete treatment. However it is important to know there might be some multicollinearity between the age ranges and education."
   ]
  },
  {
   "cell_type": "code",
   "execution_count": 29,
   "metadata": {
    "collapsed": true
   },
   "outputs": [],
   "source": [
    "# mapping employment status\n",
    "EMPLOY_Map = {1: 'Full Time',\n",
    "              2: 'Part Time',\n",
    "              3: 'Unemployed',\n",
    "              4: 'Not in Labour Force'}\n",
    "df_mapped['EMPLOY'].replace(EMPLOY_Map, inplace = True)"
   ]
  },
  {
   "cell_type": "code",
   "execution_count": 30,
   "metadata": {
    "collapsed": false
   },
   "outputs": [
    {
     "data": {
      "text/html": [
       "<div>\n",
       "<table border=\"1\" class=\"dataframe\">\n",
       "  <thead>\n",
       "    <tr style=\"text-align: right;\">\n",
       "      <th>REASON</th>\n",
       "      <th>1</th>\n",
       "      <th>2</th>\n",
       "    </tr>\n",
       "    <tr>\n",
       "      <th>EMPLOY</th>\n",
       "      <th></th>\n",
       "      <th></th>\n",
       "    </tr>\n",
       "  </thead>\n",
       "  <tbody>\n",
       "    <tr>\n",
       "      <th>Full Time</th>\n",
       "      <td>0.695363</td>\n",
       "      <td>0.304637</td>\n",
       "    </tr>\n",
       "    <tr>\n",
       "      <th>Not in Labour Force</th>\n",
       "      <td>0.600259</td>\n",
       "      <td>0.399741</td>\n",
       "    </tr>\n",
       "    <tr>\n",
       "      <th>Part Time</th>\n",
       "      <td>0.622765</td>\n",
       "      <td>0.377235</td>\n",
       "    </tr>\n",
       "    <tr>\n",
       "      <th>Unemployed</th>\n",
       "      <td>0.580376</td>\n",
       "      <td>0.419624</td>\n",
       "    </tr>\n",
       "    <tr>\n",
       "      <th>All</th>\n",
       "      <td>0.608772</td>\n",
       "      <td>0.391228</td>\n",
       "    </tr>\n",
       "  </tbody>\n",
       "</table>\n",
       "</div>"
      ],
      "text/plain": [
       "REASON                      1         2\n",
       "EMPLOY                                 \n",
       "Full Time            0.695363  0.304637\n",
       "Not in Labour Force  0.600259  0.399741\n",
       "Part Time            0.622765  0.377235\n",
       "Unemployed           0.580376  0.419624\n",
       "All                  0.608772  0.391228"
      ]
     },
     "execution_count": 30,
     "metadata": {},
     "output_type": "execute_result"
    }
   ],
   "source": [
    "pd.crosstab(index = df_mapped['EMPLOY'], columns = df_mapped['REASON'], normalize = 'index', margins = True)"
   ]
  },
  {
   "cell_type": "markdown",
   "metadata": {},
   "source": [
    "Those working FT were more likely to complete treatment, probably as they had the most to lose or if their treatment was employer directed."
   ]
  },
  {
   "cell_type": "code",
   "execution_count": 31,
   "metadata": {
    "collapsed": true
   },
   "outputs": [],
   "source": [
    "# mapping living arrangement status\n",
    "LIVARAG_Map = {1: 'Homeless',\n",
    "               2: 'Dependent',\n",
    "               3: 'Independent'}\n",
    "df_mapped['LIVARAG'].replace(LIVARAG_Map, inplace = True)"
   ]
  },
  {
   "cell_type": "code",
   "execution_count": 32,
   "metadata": {
    "collapsed": false
   },
   "outputs": [
    {
     "data": {
      "text/html": [
       "<div>\n",
       "<table border=\"1\" class=\"dataframe\">\n",
       "  <thead>\n",
       "    <tr style=\"text-align: right;\">\n",
       "      <th>REASON</th>\n",
       "      <th>1</th>\n",
       "      <th>2</th>\n",
       "    </tr>\n",
       "    <tr>\n",
       "      <th>LIVARAG</th>\n",
       "      <th></th>\n",
       "      <th></th>\n",
       "    </tr>\n",
       "  </thead>\n",
       "  <tbody>\n",
       "    <tr>\n",
       "      <th>Dependent</th>\n",
       "      <td>0.618370</td>\n",
       "      <td>0.381630</td>\n",
       "    </tr>\n",
       "    <tr>\n",
       "      <th>Homeless</th>\n",
       "      <td>0.640164</td>\n",
       "      <td>0.359836</td>\n",
       "    </tr>\n",
       "    <tr>\n",
       "      <th>Independent</th>\n",
       "      <td>0.599403</td>\n",
       "      <td>0.400597</td>\n",
       "    </tr>\n",
       "    <tr>\n",
       "      <th>All</th>\n",
       "      <td>0.608772</td>\n",
       "      <td>0.391228</td>\n",
       "    </tr>\n",
       "  </tbody>\n",
       "</table>\n",
       "</div>"
      ],
      "text/plain": [
       "REASON              1         2\n",
       "LIVARAG                        \n",
       "Dependent    0.618370  0.381630\n",
       "Homeless     0.640164  0.359836\n",
       "Independent  0.599403  0.400597\n",
       "All          0.608772  0.391228"
      ]
     },
     "execution_count": 32,
     "metadata": {},
     "output_type": "execute_result"
    }
   ],
   "source": [
    "pd.crosstab(index = df_mapped['LIVARAG'], columns = df_mapped['REASON'], normalize = 'index', margins = True)"
   ]
  },
  {
   "cell_type": "code",
   "execution_count": 33,
   "metadata": {
    "collapsed": true
   },
   "outputs": [],
   "source": [
    "# mapping principal source of referral\n",
    "PSOURCE_Map = {1: 'Individual',\n",
    "               2: 'Drug Abuse Provider',\n",
    "               3: 'Other Health Provider',\n",
    "               4: 'School',\n",
    "               5: 'Employer',\n",
    "               6: 'Other Community Referral',\n",
    "               7: 'Court'}\n",
    "df_mapped['PSOURCE'].replace(PSOURCE_Map, inplace = True)"
   ]
  },
  {
   "cell_type": "code",
   "execution_count": 34,
   "metadata": {
    "collapsed": false
   },
   "outputs": [
    {
     "data": {
      "text/html": [
       "<div>\n",
       "<table border=\"1\" class=\"dataframe\">\n",
       "  <thead>\n",
       "    <tr style=\"text-align: right;\">\n",
       "      <th>REASON</th>\n",
       "      <th>1</th>\n",
       "      <th>2</th>\n",
       "    </tr>\n",
       "    <tr>\n",
       "      <th>PSOURCE</th>\n",
       "      <th></th>\n",
       "      <th></th>\n",
       "    </tr>\n",
       "  </thead>\n",
       "  <tbody>\n",
       "    <tr>\n",
       "      <th>Court</th>\n",
       "      <td>0.681665</td>\n",
       "      <td>0.318335</td>\n",
       "    </tr>\n",
       "    <tr>\n",
       "      <th>Drug Abuse Provider</th>\n",
       "      <td>0.618087</td>\n",
       "      <td>0.381913</td>\n",
       "    </tr>\n",
       "    <tr>\n",
       "      <th>Employer</th>\n",
       "      <td>0.715962</td>\n",
       "      <td>0.284038</td>\n",
       "    </tr>\n",
       "    <tr>\n",
       "      <th>Individual</th>\n",
       "      <td>0.544160</td>\n",
       "      <td>0.455840</td>\n",
       "    </tr>\n",
       "    <tr>\n",
       "      <th>Other Community Referral</th>\n",
       "      <td>0.576554</td>\n",
       "      <td>0.423446</td>\n",
       "    </tr>\n",
       "    <tr>\n",
       "      <th>Other Health Provider</th>\n",
       "      <td>0.583779</td>\n",
       "      <td>0.416221</td>\n",
       "    </tr>\n",
       "    <tr>\n",
       "      <th>School</th>\n",
       "      <td>0.507817</td>\n",
       "      <td>0.492183</td>\n",
       "    </tr>\n",
       "    <tr>\n",
       "      <th>All</th>\n",
       "      <td>0.608772</td>\n",
       "      <td>0.391228</td>\n",
       "    </tr>\n",
       "  </tbody>\n",
       "</table>\n",
       "</div>"
      ],
      "text/plain": [
       "REASON                           1         2\n",
       "PSOURCE                                     \n",
       "Court                     0.681665  0.318335\n",
       "Drug Abuse Provider       0.618087  0.381913\n",
       "Employer                  0.715962  0.284038\n",
       "Individual                0.544160  0.455840\n",
       "Other Community Referral  0.576554  0.423446\n",
       "Other Health Provider     0.583779  0.416221\n",
       "School                    0.507817  0.492183\n",
       "All                       0.608772  0.391228"
      ]
     },
     "execution_count": 34,
     "metadata": {},
     "output_type": "execute_result"
    }
   ],
   "source": [
    "pd.crosstab(index = df_mapped['PSOURCE'], columns = df_mapped['REASON'], normalize = 'index', margins = True)"
   ]
  },
  {
   "cell_type": "markdown",
   "metadata": {},
   "source": [
    "Interesting to see that those who checked themselves in had the lowest rate of treatment completion."
   ]
  },
  {
   "cell_type": "code",
   "execution_count": 35,
   "metadata": {
    "collapsed": false
   },
   "outputs": [
    {
     "data": {
      "text/plain": [
       "2.0     415986\n",
       "4.0     194717\n",
       "5.0     143348\n",
       "7.0      81976\n",
       "3.0      81417\n",
       "10.0     70587\n",
       "13.0      8517\n",
       "20.0      6876\n",
       "1.0       5412\n",
       "11.0      4852\n",
       "8.0       3114\n",
       "6.0       2996\n",
       "16.0      1369\n",
       "9.0        959\n",
       "18.0       693\n",
       "17.0       683\n",
       "12.0       662\n",
       "15.0       502\n",
       "14.0       230\n",
       "Name: SUB1, dtype: int64"
      ]
     },
     "execution_count": 35,
     "metadata": {},
     "output_type": "execute_result"
    }
   ],
   "source": [
    "# mapping primary drug used - since there are 20 unique categories, take the 6 most common and code the rest as 'Other'\n",
    "df_mapped['SUB1'].value_counts(ascending = False)"
   ]
  },
  {
   "cell_type": "code",
   "execution_count": 36,
   "metadata": {
    "collapsed": false
   },
   "outputs": [],
   "source": [
    "# mapping substances\n",
    "SUB1_Map = {2: 'Alcohol',\n",
    "            3: 'Crack Cocaine',\n",
    "            4: 'Marijuana',\n",
    "            5: 'Heroine',\n",
    "            7: 'Opiates Synthetics',\n",
    "            10: 'Meth'}\n",
    "df_mapped['SUB1'].replace(SUB1_Map, inplace = True)\n",
    "df_mapped['SUB1'] = np.where(df.SUB1.isin([1,6,8,9,11,12,13,14,15,16,17,18,18,20]), 'Other', df_mapped['SUB1'])"
   ]
  },
  {
   "cell_type": "code",
   "execution_count": 37,
   "metadata": {
    "collapsed": false
   },
   "outputs": [
    {
     "data": {
      "text/html": [
       "<div>\n",
       "<table border=\"1\" class=\"dataframe\">\n",
       "  <thead>\n",
       "    <tr style=\"text-align: right;\">\n",
       "      <th>REASON</th>\n",
       "      <th>1</th>\n",
       "      <th>2</th>\n",
       "    </tr>\n",
       "    <tr>\n",
       "      <th>SUB1</th>\n",
       "      <th></th>\n",
       "      <th></th>\n",
       "    </tr>\n",
       "  </thead>\n",
       "  <tbody>\n",
       "    <tr>\n",
       "      <th>Alcohol</th>\n",
       "      <td>0.694019</td>\n",
       "      <td>0.305981</td>\n",
       "    </tr>\n",
       "    <tr>\n",
       "      <th>Crack Cocaine</th>\n",
       "      <td>0.548841</td>\n",
       "      <td>0.451159</td>\n",
       "    </tr>\n",
       "    <tr>\n",
       "      <th>Heroine</th>\n",
       "      <td>0.517238</td>\n",
       "      <td>0.482762</td>\n",
       "    </tr>\n",
       "    <tr>\n",
       "      <th>Marijuana</th>\n",
       "      <td>0.554970</td>\n",
       "      <td>0.445030</td>\n",
       "    </tr>\n",
       "    <tr>\n",
       "      <th>Meth</th>\n",
       "      <td>0.605239</td>\n",
       "      <td>0.394761</td>\n",
       "    </tr>\n",
       "    <tr>\n",
       "      <th>Opiates Synthetics</th>\n",
       "      <td>0.541561</td>\n",
       "      <td>0.458439</td>\n",
       "    </tr>\n",
       "    <tr>\n",
       "      <th>Other</th>\n",
       "      <td>0.575532</td>\n",
       "      <td>0.424468</td>\n",
       "    </tr>\n",
       "    <tr>\n",
       "      <th>All</th>\n",
       "      <td>0.608772</td>\n",
       "      <td>0.391228</td>\n",
       "    </tr>\n",
       "  </tbody>\n",
       "</table>\n",
       "</div>"
      ],
      "text/plain": [
       "REASON                     1         2\n",
       "SUB1                                  \n",
       "Alcohol             0.694019  0.305981\n",
       "Crack Cocaine       0.548841  0.451159\n",
       "Heroine             0.517238  0.482762\n",
       "Marijuana           0.554970  0.445030\n",
       "Meth                0.605239  0.394761\n",
       "Opiates Synthetics  0.541561  0.458439\n",
       "Other               0.575532  0.424468\n",
       "All                 0.608772  0.391228"
      ]
     },
     "execution_count": 37,
     "metadata": {},
     "output_type": "execute_result"
    }
   ],
   "source": [
    "pd.crosstab(index = df_mapped['SUB1'], columns = df_mapped['REASON'], normalize = 'index', margins = True)"
   ]
  },
  {
   "cell_type": "code",
   "execution_count": 38,
   "metadata": {
    "collapsed": false
   },
   "outputs": [
    {
     "data": {
      "text/html": [
       "<div>\n",
       "<table border=\"1\" class=\"dataframe\">\n",
       "  <thead>\n",
       "    <tr style=\"text-align: right;\">\n",
       "      <th></th>\n",
       "      <th>AGE</th>\n",
       "      <th>GENDER</th>\n",
       "      <th>EDUC</th>\n",
       "      <th>EMPLOY</th>\n",
       "      <th>LIVARAG</th>\n",
       "      <th>LOS</th>\n",
       "      <th>PSOURCE</th>\n",
       "      <th>NOPRIOR</th>\n",
       "      <th>NUMSUBS</th>\n",
       "      <th>SUB1</th>\n",
       "      <th>REASON</th>\n",
       "    </tr>\n",
       "  </thead>\n",
       "  <tbody>\n",
       "    <tr>\n",
       "      <th>3</th>\n",
       "      <td>25 to 29</td>\n",
       "      <td>Female</td>\n",
       "      <td>13 to 15</td>\n",
       "      <td>Unemployed</td>\n",
       "      <td>Independent</td>\n",
       "      <td>32.0</td>\n",
       "      <td>Individual</td>\n",
       "      <td>1.0</td>\n",
       "      <td>2</td>\n",
       "      <td>Opiates Synthetics</td>\n",
       "      <td>2</td>\n",
       "    </tr>\n",
       "    <tr>\n",
       "      <th>4</th>\n",
       "      <td>40 to 44</td>\n",
       "      <td>Female</td>\n",
       "      <td>12</td>\n",
       "      <td>Full Time</td>\n",
       "      <td>Independent</td>\n",
       "      <td>27.0</td>\n",
       "      <td>Other Community Referral</td>\n",
       "      <td>3.0</td>\n",
       "      <td>1</td>\n",
       "      <td>Alcohol</td>\n",
       "      <td>1</td>\n",
       "    </tr>\n",
       "    <tr>\n",
       "      <th>6</th>\n",
       "      <td>25 to 29</td>\n",
       "      <td>Male</td>\n",
       "      <td>12</td>\n",
       "      <td>Part Time</td>\n",
       "      <td>Independent</td>\n",
       "      <td>35.0</td>\n",
       "      <td>Court</td>\n",
       "      <td>2.0</td>\n",
       "      <td>1</td>\n",
       "      <td>Marijuana</td>\n",
       "      <td>1</td>\n",
       "    </tr>\n",
       "    <tr>\n",
       "      <th>7</th>\n",
       "      <td>25 to 29</td>\n",
       "      <td>Male</td>\n",
       "      <td>13 to 15</td>\n",
       "      <td>Not in Labour Force</td>\n",
       "      <td>Homeless</td>\n",
       "      <td>1.0</td>\n",
       "      <td>Individual</td>\n",
       "      <td>5.0</td>\n",
       "      <td>2</td>\n",
       "      <td>Heroine</td>\n",
       "      <td>2</td>\n",
       "    </tr>\n",
       "    <tr>\n",
       "      <th>8</th>\n",
       "      <td>35 to 39</td>\n",
       "      <td>Male</td>\n",
       "      <td>16 or More</td>\n",
       "      <td>Full Time</td>\n",
       "      <td>Independent</td>\n",
       "      <td>36.0</td>\n",
       "      <td>Individual</td>\n",
       "      <td>3.0</td>\n",
       "      <td>2</td>\n",
       "      <td>Meth</td>\n",
       "      <td>1</td>\n",
       "    </tr>\n",
       "  </tbody>\n",
       "</table>\n",
       "</div>"
      ],
      "text/plain": [
       "        AGE  GENDER        EDUC               EMPLOY      LIVARAG   LOS  \\\n",
       "3  25 to 29  Female    13 to 15           Unemployed  Independent  32.0   \n",
       "4  40 to 44  Female          12            Full Time  Independent  27.0   \n",
       "6  25 to 29    Male          12            Part Time  Independent  35.0   \n",
       "7  25 to 29    Male    13 to 15  Not in Labour Force     Homeless   1.0   \n",
       "8  35 to 39    Male  16 or More            Full Time  Independent  36.0   \n",
       "\n",
       "                    PSOURCE  NOPRIOR  NUMSUBS                SUB1  REASON  \n",
       "3                Individual      1.0        2  Opiates Synthetics       2  \n",
       "4  Other Community Referral      3.0        1             Alcohol       1  \n",
       "6                     Court      2.0        1           Marijuana       1  \n",
       "7                Individual      5.0        2             Heroine       2  \n",
       "8                Individual      3.0        2                Meth       1  "
      ]
     },
     "execution_count": 38,
     "metadata": {},
     "output_type": "execute_result"
    }
   ],
   "source": [
    "df_mapped.head()"
   ]
  },
  {
   "cell_type": "code",
   "execution_count": null,
   "metadata": {
    "collapsed": false,
    "scrolled": true
   },
   "outputs": [],
   "source": [
    "# look at data types\n",
    "df_mapped.dtypes"
   ]
  },
  {
   "cell_type": "code",
   "execution_count": null,
   "metadata": {
    "collapsed": true
   },
   "outputs": [],
   "source": []
  }
 ],
 "metadata": {
  "kernelspec": {
   "display_name": "Python [Root]",
   "language": "python",
   "name": "Python [Root]"
  },
  "language_info": {
   "codemirror_mode": {
    "name": "ipython",
    "version": 2
   },
   "file_extension": ".py",
   "mimetype": "text/x-python",
   "name": "python",
   "nbconvert_exporter": "python",
   "pygments_lexer": "ipython2",
   "version": "2.7.12"
  }
 },
 "nbformat": 4,
 "nbformat_minor": 0
}
